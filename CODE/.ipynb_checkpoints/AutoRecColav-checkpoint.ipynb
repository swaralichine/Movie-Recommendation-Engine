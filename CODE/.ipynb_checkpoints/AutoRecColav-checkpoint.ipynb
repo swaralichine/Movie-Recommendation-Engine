{
 "cells": [
  {
   "cell_type": "code",
   "execution_count": 1,
   "metadata": {
    "_cell_guid": "b1076dfc-b9ad-4769-8c92-a6c4dae69d19",
    "_uuid": "8f2839f25d086af736a60e9eeb907d3b93b6e0e5"
   },
   "outputs": [
    {
     "name": "stdout",
     "output_type": "stream",
     "text": [
      "/kaggle/input/movielens-20m-dataset/tag.csv\n",
      "/kaggle/input/movielens-20m-dataset/rating.csv\n",
      "/kaggle/input/movielens-20m-dataset/genome_scores.csv\n",
      "/kaggle/input/movielens-20m-dataset/movie.csv\n",
      "/kaggle/input/movielens-20m-dataset/genome_tags.csv\n",
      "/kaggle/input/movielens-20m-dataset/link.csv\n"
     ]
    }
   ],
   "source": [
    "# This Python 3 environment comes with many helpful analytics libraries installed\n",
    "# It is defined by the kaggle/python docker image: https://github.com/kaggle/docker-python\n",
    "# For example, here's several helpful packages to load in \n",
    "\n",
    "import numpy as np # linear algebra\n",
    "import pandas as pd # data processing, CSV file I/O (e.g. pd.read_csv)\n",
    "\n",
    "# Input data files are available in the \"../input/\" directory.\n",
    "# For example, running this (by clicking run or pressing Shift+Enter) will list all files under the input directory\n",
    "import matplotlib.pyplot as plt\n",
    "import os\n",
    "for dirname, _, filenames in os.walk('/kaggle/input'):\n",
    "    for filename in filenames:\n",
    "        print(os.path.join(dirname, filename))\n",
    "from sklearn.metrics.pairwise import cosine_similarity\n",
    "\n",
    "\n",
    "from sklearn.feature_extraction.text import TfidfVectorizer\n",
    "# Any results you write to the current directory are saved as output.  "
   ]
  },
  {
   "cell_type": "code",
   "execution_count": 2,
   "metadata": {
    "_cell_guid": "79c7e3d0-c299-4dcb-8224-4455121ee9b0",
    "_uuid": "d629ff2d2480ee46fbb7e2d37f6b5fab8052498a"
   },
   "outputs": [
    {
     "data": {
      "text/plain": [
       "['tag.csv',\n",
       " 'rating.csv',\n",
       " 'genome_scores.csv',\n",
       " 'movie.csv',\n",
       " 'genome_tags.csv',\n",
       " 'link.csv']"
      ]
     },
     "execution_count": 2,
     "metadata": {},
     "output_type": "execute_result"
    }
   ],
   "source": [
    "os.listdir('/kaggle/input/movielens-20m-dataset/')"
   ]
  },
  {
   "cell_type": "code",
   "execution_count": 3,
   "metadata": {},
   "outputs": [],
   "source": [
    "import pandas as pd"
   ]
  },
  {
   "cell_type": "code",
   "execution_count": 4,
   "metadata": {},
   "outputs": [],
   "source": [
    "train_csv = pd.read_csv('/kaggle/input/movielens-20m-dataset/rating.csv')"
   ]
  },
  {
   "cell_type": "code",
   "execution_count": 5,
   "metadata": {},
   "outputs": [],
   "source": [
    "train_csv = train_csv.drop(columns = ['timestamp'],axis = 1)"
   ]
  },
  {
   "cell_type": "code",
   "execution_count": 6,
   "metadata": {},
   "outputs": [],
   "source": [
    "train_csv_full = train_csv"
   ]
  },
  {
   "cell_type": "code",
   "execution_count": 7,
   "metadata": {},
   "outputs": [
    {
     "data": {
      "text/plain": [
       "20000263"
      ]
     },
     "execution_count": 7,
     "metadata": {},
     "output_type": "execute_result"
    }
   ],
   "source": [
    "len(train_csv)"
   ]
  },
  {
   "cell_type": "code",
   "execution_count": 8,
   "metadata": {},
   "outputs": [
    {
     "name": "stdout",
     "output_type": "stream",
     "text": [
      "138493\n"
     ]
    }
   ],
   "source": [
    "users  = train_csv.userId.unique()\n",
    "print(len(users))"
   ]
  },
  {
   "cell_type": "code",
   "execution_count": 9,
   "metadata": {},
   "outputs": [
    {
     "data": {
      "text/plain": [
       "26744"
      ]
     },
     "execution_count": 9,
     "metadata": {},
     "output_type": "execute_result"
    }
   ],
   "source": [
    "items = train_csv.movieId.unique()\n",
    "len(items)"
   ]
  },
  {
   "cell_type": "code",
   "execution_count": 10,
   "metadata": {},
   "outputs": [],
   "source": [
    "userid2idx = {o:i+1 for i,o in enumerate(users)}\n",
    "movieid2idx = {o:i+1 for i,o in enumerate(items)}"
   ]
  },
  {
   "cell_type": "code",
   "execution_count": 11,
   "metadata": {},
   "outputs": [
    {
     "data": {
      "text/plain": [
       "26744"
      ]
     },
     "execution_count": 11,
     "metadata": {},
     "output_type": "execute_result"
    }
   ],
   "source": [
    "len(movieid2idx)"
   ]
  },
  {
   "cell_type": "code",
   "execution_count": 12,
   "metadata": {},
   "outputs": [],
   "source": [
    "movie_csv = pd.read_csv('/kaggle/input/movielens-20m-dataset/movie.csv')"
   ]
  },
  {
   "cell_type": "code",
   "execution_count": 13,
   "metadata": {},
   "outputs": [],
   "source": [
    "#print(movieid2idx)"
   ]
  },
  {
   "cell_type": "code",
   "execution_count": 14,
   "metadata": {},
   "outputs": [],
   "source": [
    "#print(userid2idx)"
   ]
  },
  {
   "cell_type": "code",
   "execution_count": 15,
   "metadata": {},
   "outputs": [],
   "source": [
    "df = pd.DataFrame(columns = ['userid','movieid','rating'])"
   ]
  },
  {
   "cell_type": "code",
   "execution_count": 16,
   "metadata": {},
   "outputs": [],
   "source": [
    "df['userid'] = train_csv.userId.apply(lambda x: userid2idx[x])\n",
    "df['movieid'] = train_csv.movieId.apply(lambda x: movieid2idx[x])\n",
    "df['rating'] = 1"
   ]
  },
  {
   "cell_type": "code",
   "execution_count": 17,
   "metadata": {},
   "outputs": [
    {
     "name": "stdout",
     "output_type": "stream",
     "text": [
      "138493\n"
     ]
    }
   ],
   "source": [
    "num_users = train_csv['userId'].nunique()\n",
    "print(num_users)"
   ]
  },
  {
   "cell_type": "code",
   "execution_count": 18,
   "metadata": {},
   "outputs": [
    {
     "name": "stdout",
     "output_type": "stream",
     "text": [
      "26744\n"
     ]
    }
   ],
   "source": [
    "num_items = train_csv['movieId'].nunique()\n",
    "print(num_items)"
   ]
  },
  {
   "cell_type": "markdown",
   "metadata": {},
   "source": [
    "COLLABORATIVE FILTERING"
   ]
  },
  {
   "cell_type": "code",
   "execution_count": 19,
   "metadata": {},
   "outputs": [
    {
     "name": "stderr",
     "output_type": "stream",
     "text": [
      "Using TensorFlow backend.\n"
     ]
    }
   ],
   "source": [
    "from keras.layers import Embedding, Input, Flatten,Dense\n",
    "from keras.models import Model\n",
    "from keras.layers.merge import concatenate,multiply\n"
   ]
  },
  {
   "cell_type": "code",
   "execution_count": 20,
   "metadata": {},
   "outputs": [],
   "source": [
    "user_input = Input(shape = (1,))\n",
    "item_input = Input(shape = (1,))"
   ]
  },
  {
   "cell_type": "code",
   "execution_count": 21,
   "metadata": {},
   "outputs": [],
   "source": [
    "latent_factor = 64\n",
    "layers = [512,256,128,64]\n",
    "mf_embedding_user = Embedding(input_dim = num_users,output_dim = latent_factor,name = 'mf_e')(user_input)\n",
    "mf_embedding_item = Embedding(input_dim = num_items,output_dim = latent_factor,name = 'mf_i')(item_input)\n",
    "o = multiply([mf_embedding_user,mf_embedding_item],name= 'combine_mf')\n",
    "o = Flatten()(o)\n",
    "\n",
    "mlp_embedding_user = Embedding(input_dim = num_users,output_dim = layers[0],name = 'mlp_e')(user_input)\n",
    "mlp_embedding_item = Embedding(input_dim = num_items,output_dim = layers[0],name = 'mlp_i')(item_input)\n",
    "mlp_vector = concatenate([mlp_embedding_user,mlp_embedding_item])\n",
    "for i in range(1,len(layers)):\n",
    "    layer = Dense(layers[i])\n",
    "    mlp_vector = layer(mlp_vector)\n",
    "mlp_vector = Flatten()(mlp_vector)\n",
    "c= concatenate([o,mlp_vector])\n",
    "\n",
    "c = Dense(1,activation= 'sigmoid')(c)\n",
    "model = Model(inputs = [user_input, item_input], outputs = c)\n",
    "\n",
    "# Minimize binary cross entropy\n",
    "model.compile(optimizer = 'Adam', loss = 'binary_crossentropy', metrics = ['accuracy'])"
   ]
  },
  {
   "cell_type": "code",
   "execution_count": 22,
   "metadata": {},
   "outputs": [
    {
     "name": "stdout",
     "output_type": "stream",
     "text": [
      "Model: \"model_1\"\n",
      "__________________________________________________________________________________________________\n",
      "Layer (type)                    Output Shape         Param #     Connected to                     \n",
      "==================================================================================================\n",
      "input_1 (InputLayer)            (None, 1)            0                                            \n",
      "__________________________________________________________________________________________________\n",
      "input_2 (InputLayer)            (None, 1)            0                                            \n",
      "__________________________________________________________________________________________________\n",
      "mlp_e (Embedding)               (None, 1, 512)       70908416    input_1[0][0]                    \n",
      "__________________________________________________________________________________________________\n",
      "mlp_i (Embedding)               (None, 1, 512)       13692928    input_2[0][0]                    \n",
      "__________________________________________________________________________________________________\n",
      "concatenate_1 (Concatenate)     (None, 1, 1024)      0           mlp_e[0][0]                      \n",
      "                                                                 mlp_i[0][0]                      \n",
      "__________________________________________________________________________________________________\n",
      "dense_1 (Dense)                 (None, 1, 256)       262400      concatenate_1[0][0]              \n",
      "__________________________________________________________________________________________________\n",
      "mf_e (Embedding)                (None, 1, 64)        8863552     input_1[0][0]                    \n",
      "__________________________________________________________________________________________________\n",
      "mf_i (Embedding)                (None, 1, 64)        1711616     input_2[0][0]                    \n",
      "__________________________________________________________________________________________________\n",
      "dense_2 (Dense)                 (None, 1, 128)       32896       dense_1[0][0]                    \n",
      "__________________________________________________________________________________________________\n",
      "combine_mf (Multiply)           (None, 1, 64)        0           mf_e[0][0]                       \n",
      "                                                                 mf_i[0][0]                       \n",
      "__________________________________________________________________________________________________\n",
      "dense_3 (Dense)                 (None, 1, 64)        8256        dense_2[0][0]                    \n",
      "__________________________________________________________________________________________________\n",
      "flatten_1 (Flatten)             (None, 64)           0           combine_mf[0][0]                 \n",
      "__________________________________________________________________________________________________\n",
      "flatten_2 (Flatten)             (None, 64)           0           dense_3[0][0]                    \n",
      "__________________________________________________________________________________________________\n",
      "concatenate_2 (Concatenate)     (None, 128)          0           flatten_1[0][0]                  \n",
      "                                                                 flatten_2[0][0]                  \n",
      "__________________________________________________________________________________________________\n",
      "dense_4 (Dense)                 (None, 1)            129         concatenate_2[0][0]              \n",
      "==================================================================================================\n",
      "Total params: 95,480,193\n",
      "Trainable params: 95,480,193\n",
      "Non-trainable params: 0\n",
      "__________________________________________________________________________________________________\n"
     ]
    }
   ],
   "source": [
    "model.summary()"
   ]
  },
  {
   "cell_type": "code",
   "execution_count": 23,
   "metadata": {},
   "outputs": [
    {
     "data": {
      "text/html": [
       "<div>\n",
       "<style scoped>\n",
       "    .dataframe tbody tr th:only-of-type {\n",
       "        vertical-align: middle;\n",
       "    }\n",
       "\n",
       "    .dataframe tbody tr th {\n",
       "        vertical-align: top;\n",
       "    }\n",
       "\n",
       "    .dataframe thead th {\n",
       "        text-align: right;\n",
       "    }\n",
       "</style>\n",
       "<table border=\"1\" class=\"dataframe\">\n",
       "  <thead>\n",
       "    <tr style=\"text-align: right;\">\n",
       "      <th></th>\n",
       "      <th>userId</th>\n",
       "      <th>movieId</th>\n",
       "      <th>rating</th>\n",
       "    </tr>\n",
       "  </thead>\n",
       "  <tbody>\n",
       "    <tr>\n",
       "      <th>0</th>\n",
       "      <td>1</td>\n",
       "      <td>2</td>\n",
       "      <td>3.5</td>\n",
       "    </tr>\n",
       "    <tr>\n",
       "      <th>1</th>\n",
       "      <td>1</td>\n",
       "      <td>29</td>\n",
       "      <td>3.5</td>\n",
       "    </tr>\n",
       "    <tr>\n",
       "      <th>2</th>\n",
       "      <td>1</td>\n",
       "      <td>32</td>\n",
       "      <td>3.5</td>\n",
       "    </tr>\n",
       "    <tr>\n",
       "      <th>3</th>\n",
       "      <td>1</td>\n",
       "      <td>47</td>\n",
       "      <td>3.5</td>\n",
       "    </tr>\n",
       "    <tr>\n",
       "      <th>4</th>\n",
       "      <td>1</td>\n",
       "      <td>50</td>\n",
       "      <td>3.5</td>\n",
       "    </tr>\n",
       "  </tbody>\n",
       "</table>\n",
       "</div>"
      ],
      "text/plain": [
       "   userId  movieId  rating\n",
       "0       1        2     3.5\n",
       "1       1       29     3.5\n",
       "2       1       32     3.5\n",
       "3       1       47     3.5\n",
       "4       1       50     3.5"
      ]
     },
     "execution_count": 23,
     "metadata": {},
     "output_type": "execute_result"
    }
   ],
   "source": [
    "train_csv.head()"
   ]
  },
  {
   "cell_type": "code",
   "execution_count": 24,
   "metadata": {},
   "outputs": [],
   "source": [
    "\n",
    "def training_dataset(df,num_neg):\n",
    "    labels = []\n",
    "    user_input = []\n",
    "    item_input = []\n",
    "    for i in range(0,len(df)):\n",
    "        user_input.append(df['userid'][i])\n",
    "        item_input.append(df['movieid'][i])\n",
    "        labels.append(1)\n",
    "        for j in range(0,num_neg):\n",
    "            k = np.random.randint(num_items)\n",
    "            user_input.append(df['userid'][i])\n",
    "            item_input.append(k)\n",
    "            labels.append(0)\n",
    "        \n",
    "        \n",
    "        \n",
    "    return user_input,item_input,labels\n",
    "        "
   ]
  },
  {
   "cell_type": "code",
   "execution_count": 25,
   "metadata": {},
   "outputs": [],
   "source": [
    "num_neg = 1\n",
    "user_train,item_train,labels = training_dataset(df[0:200000],num_neg)"
   ]
  },
  {
   "cell_type": "code",
   "execution_count": 26,
   "metadata": {},
   "outputs": [
    {
     "data": {
      "text/plain": [
       "400000"
      ]
     },
     "execution_count": 26,
     "metadata": {},
     "output_type": "execute_result"
    }
   ],
   "source": [
    "len(user_train)"
   ]
  },
  {
   "cell_type": "code",
   "execution_count": 27,
   "metadata": {},
   "outputs": [
    {
     "name": "stderr",
     "output_type": "stream",
     "text": [
      "/opt/conda/lib/python3.6/site-packages/tensorflow_core/python/framework/indexed_slices.py:433: UserWarning: Converting sparse IndexedSlices to a dense Tensor of unknown shape. This may consume a large amount of memory.\n",
      "  \"Converting sparse IndexedSlices to a dense Tensor of unknown shape. \"\n"
     ]
    },
    {
     "name": "stdout",
     "output_type": "stream",
     "text": [
      "Train on 360000 samples, validate on 40000 samples\n",
      "Epoch 1/1\n",
      "360000/360000 [==============================] - 357s 991us/step - loss: 0.3411 - accuracy: 0.8664 - val_loss: 0.2833 - val_accuracy: 0.8886\n"
     ]
    }
   ],
   "source": [
    " hist = model.fit([np.array(user_train), np.array(item_train)], #input\n",
    "                         np.array(labels), epochs=1,validation_split = 0.1)"
   ]
  },
  {
   "cell_type": "code",
   "execution_count": 28,
   "metadata": {},
   "outputs": [
    {
     "data": {
      "text/plain": [
       "[0.3411068756788969]"
      ]
     },
     "execution_count": 28,
     "metadata": {},
     "output_type": "execute_result"
    }
   ],
   "source": [
    "hist.history['loss']"
   ]
  },
  {
   "cell_type": "markdown",
   "metadata": {},
   "source": [
    "**FINDING SIMILAR USERS **"
   ]
  },
  {
   "cell_type": "code",
   "execution_count": 30,
   "metadata": {},
   "outputs": [],
   "source": [
    "from sklearn.metrics.pairwise import cosine_similarity"
   ]
  },
  {
   "cell_type": "code",
   "execution_count": 31,
   "metadata": {},
   "outputs": [],
   "source": [
    "arr = model.predict([np.array(user_train[0:10000]),np.array(item_train[0:10000])])"
   ]
  },
  {
   "cell_type": "code",
   "execution_count": 32,
   "metadata": {},
   "outputs": [
    {
     "data": {
      "text/plain": [
       "array([[0.95938015],\n",
       "       [0.8840406 ],\n",
       "       [0.91655916],\n",
       "       ...,\n",
       "       [0.12139067],\n",
       "       [0.98942995],\n",
       "       [0.08315036]], dtype=float32)"
      ]
     },
     "execution_count": 32,
     "metadata": {},
     "output_type": "execute_result"
    }
   ],
   "source": [
    "arr"
   ]
  },
  {
   "cell_type": "raw",
   "metadata": {},
   "source": [
    "Predictions made by user 0"
   ]
  },
  {
   "cell_type": "code",
   "execution_count": 33,
   "metadata": {},
   "outputs": [],
   "source": [
    "from collections import defaultdict\n",
    "movieid2idx\n",
    "removieid2idx = defaultdict(int)\n",
    "for key,value in movieid2idx.items():\n",
    "    removieid2idx[value] = key\n",
    "#print(removieid2idx)"
   ]
  },
  {
   "cell_type": "code",
   "execution_count": 34,
   "metadata": {},
   "outputs": [],
   "source": [
    "keys = {}\n",
    "for i,j in movie_csv[['movieId','title']].values:\n",
    "    keys[i] = j\n",
    "    "
   ]
  },
  {
   "cell_type": "code",
   "execution_count": 35,
   "metadata": {},
   "outputs": [
    {
     "name": "stdout",
     "output_type": "stream",
     "text": [
      "users: 1\n",
      "items: 1\n",
      "movie name: Jumanji (1995)\n",
      "users: 1\n",
      "items: 1369\n",
      "movie name: Risky Business (1983)\n",
      "users: 1\n",
      "items: 2\n",
      "movie name: City of Lost Children, The (Cité des enfants perdus, La) (1995)\n",
      "users: 1\n",
      "items: 16465\n",
      "movie name: Borderland (2007)\n",
      "users: 1\n",
      "items: 3\n",
      "movie name: Twelve Monkeys (a.k.a. 12 Monkeys) (1995)\n",
      "users: 1\n",
      "items: 23061\n",
      "movie name: Eila, Rampe and Likka (2014)\n",
      "users: 1\n",
      "items: 4\n",
      "movie name: Seven (a.k.a. Se7en) (1995)\n",
      "users: 1\n",
      "items: 233\n",
      "movie name: Species (1995)\n",
      "users: 1\n",
      "items: 5\n",
      "movie name: Usual Suspects, The (1995)\n",
      "users: 1\n",
      "items: 24907\n",
      "movie name: Warrendale (1967)\n",
      "users: 1\n",
      "items: 6\n",
      "movie name: Rumble in the Bronx (Hont faan kui) (1995)\n",
      "users: 1\n",
      "items: 11869\n",
      "movie name: Fly Me to the Moon (2008)\n",
      "users: 1\n",
      "items: 7\n",
      "movie name: Rob Roy (1995)\n",
      "users: 1\n",
      "items: 1122\n",
      "movie name: Remember the Titans (2000)\n",
      "users: 1\n",
      "items: 8\n",
      "movie name: Clerks (1994)\n",
      "users: 1\n",
      "items: 19539\n",
      "movie name: King of the Jungle (2000)\n",
      "users: 1\n",
      "items: 9\n",
      "movie name: Interview with the Vampire: The Vampire Chronicles (1994)\n",
      "users: 1\n",
      "items: 14436\n",
      "movie name: Sparrows (1926)\n",
      "users: 1\n",
      "items: 10\n",
      "movie name: Star Wars: Episode IV - A New Hope (1977)\n",
      "users: 1\n",
      "items: 823\n",
      "movie name: Phone Booth (2002)\n",
      "users: 1\n",
      "items: 11\n",
      "movie name: Léon: The Professional (a.k.a. The Professional) (Léon) (1994)\n",
      "users: 1\n",
      "items: 15326\n",
      "movie name: Top Five (2014)\n",
      "users: 1\n",
      "items: 12\n",
      "movie name: Pulp Fiction (1994)\n",
      "users: 1\n",
      "items: 12003\n",
      "movie name: Lille Fridolf and I (1956)\n",
      "users: 1\n",
      "items: 13\n",
      "movie name: Shawshank Redemption, The (1994)\n",
      "users: 1\n",
      "items: 25750\n",
      "movie name: After Office Hours (1935)\n",
      "users: 1\n",
      "items: 14\n",
      "movie name: What's Eating Gilbert Grape (1993)\n",
      "users: 1\n",
      "items: 11546\n",
      "movie name: Tall Man, The (2012)\n",
      "users: 1\n",
      "items: 15\n",
      "movie name: Mask, The (1994)\n",
      "users: 1\n",
      "items: 21839\n",
      "movie name: Beethoven's 3rd (2000)\n",
      "users: 1\n",
      "items: 16\n",
      "movie name: Blade Runner (1982)\n",
      "users: 1\n",
      "items: 10881\n",
      "movie name: Last Klezmer: Leopold Kozlowski, His Life and Music, The (1994)\n",
      "users: 1\n",
      "items: 17\n",
      "movie name: Terminator 2: Judgment Day (1991)\n",
      "users: 1\n",
      "items: 8102\n",
      "movie name: The Odyssey (1997)\n",
      "users: 1\n",
      "items: 18\n",
      "movie name: Silence of the Lambs, The (1991)\n",
      "users: 1\n",
      "items: 17248\n",
      "movie name: Wilby Wonderful (2004)\n",
      "users: 1\n",
      "items: 19\n",
      "movie name: Dragonheart (1996)\n",
      "users: 1\n",
      "items: 13724\n",
      "movie name: Ugly American, The (1963)\n",
      "users: 1\n",
      "items: 20\n",
      "movie name: Wizard of Oz, The (1939)\n",
      "users: 1\n",
      "items: 6832\n",
      "movie name: History Boys, The (2006)\n",
      "users: 1\n",
      "items: 21\n",
      "movie name: 2001: A Space Odyssey (1968)\n",
      "users: 1\n",
      "items: 877\n",
      "movie name: Shark Tale (2004)\n",
      "users: 1\n",
      "items: 22\n",
      "movie name: Escape to Witch Mountain (1975)\n",
      "users: 1\n",
      "items: 20147\n",
      "movie name: Leaning Tower, The (Kalteva torni) (2006)\n",
      "users: 1\n",
      "items: 23\n",
      "movie name: Die Hard (1988)\n",
      "users: 1\n",
      "items: 17104\n",
      "movie name: Boy Meets Girl (1998)\n",
      "users: 1\n",
      "items: 24\n",
      "movie name: Fish Called Wanda, A (1988)\n",
      "users: 1\n",
      "items: 8195\n",
      "movie name: Cargo 200 (Gruz 200) (2007)\n",
      "users: 1\n",
      "items: 25\n",
      "movie name: Monty Python's Life of Brian (1979)\n",
      "users: 1\n",
      "items: 18192\n",
      "movie name: La Soufrière - Warten auf eine unausweichliche Katastrophe (1977)\n",
      "users: 1\n",
      "items: 26\n",
      "movie name: Reservoir Dogs (1992)\n",
      "users: 1\n",
      "items: 11220\n",
      "movie name: Kiss Before Dying, A (1956)\n",
      "users: 1\n",
      "items: 27\n",
      "movie name: Platoon (1986)\n",
      "users: 1\n",
      "items: 3651\n",
      "movie name: Longest Yard, The (1974)\n",
      "users: 1\n",
      "items: 28\n",
      "movie name: E.T. the Extra-Terrestrial (1982)\n",
      "users: 1\n",
      "items: 17971\n",
      "movie name: Enola Gay and the Atomic Bombing of Japan (1995)\n",
      "users: 1\n",
      "items: 29\n",
      "movie name: Monty Python and the Holy Grail (1975)\n",
      "users: 1\n",
      "items: 12374\n",
      "movie name: Debt, The (2007)\n",
      "users: 1\n",
      "items: 30\n",
      "movie name: One Flew Over the Cuckoo's Nest (1975)\n",
      "users: 1\n",
      "items: 8866\n",
      "movie name: New Age, The (1994)\n",
      "users: 1\n",
      "items: 31\n",
      "movie name: Star Wars: Episode V - The Empire Strikes Back (1980)\n",
      "users: 1\n",
      "items: 21871\n",
      "movie name: After Tiller (2013)\n",
      "users: 1\n",
      "items: 32\n",
      "movie name: Raiders of the Lost Ark (Indiana Jones and the Raiders of the Lost Ark) (1981)\n",
      "users: 1\n",
      "items: 26597\n",
      "movie name: Woman Rebels, A (Portrait of a Rebel) (1936)\n",
      "users: 1\n",
      "items: 33\n",
      "movie name: Aliens (1986)\n",
      "users: 1\n",
      "items: 4139\n",
      "movie name: Hondo (1953)\n",
      "users: 1\n",
      "items: 34\n",
      "movie name: Good, the Bad and the Ugly, The (Buono, il brutto, il cattivo, Il) (1966)\n",
      "users: 1\n",
      "items: 17054\n",
      "movie name: Actress, the Dollars and the Transylvanians, The (Artista, dolarii si Ardelenii) (1979)\n",
      "users: 1\n",
      "items: 35\n",
      "movie name: Apocalypse Now (1979)\n",
      "users: 1\n",
      "items: 12424\n",
      "movie name: Reivers, The (1969)\n",
      "users: 1\n",
      "items: 36\n",
      "movie name: Alien (1979)\n",
      "users: 1\n",
      "items: 6480\n",
      "movie name: Wave, The (Welle, Die) (2008)\n",
      "users: 1\n",
      "items: 37\n",
      "movie name: Army of Darkness (1993)\n",
      "users: 1\n",
      "items: 24120\n",
      "movie name: Puckoon (2002)\n",
      "users: 1\n",
      "items: 38\n",
      "movie name: Ran (1985)\n",
      "users: 1\n",
      "items: 13135\n",
      "movie name: Gold (2013)\n",
      "users: 1\n",
      "items: 39\n",
      "movie name: Psycho (1960)\n",
      "users: 1\n",
      "items: 11992\n",
      "movie name: Wedding Song, The (2008) \n",
      "users: 1\n",
      "items: 40\n",
      "movie name: Full Metal Jacket (1987)\n",
      "users: 1\n",
      "items: 12802\n",
      "movie name: Big River Man (2009)\n",
      "users: 1\n",
      "items: 41\n",
      "movie name: Terminator, The (1984)\n",
      "users: 1\n",
      "items: 20581\n",
      "movie name: My Dear Enemy (Meotjin haru) (2008)\n",
      "users: 1\n",
      "items: 42\n",
      "movie name: Rosencrantz and Guildenstern Are Dead (1990)\n",
      "users: 1\n",
      "items: 14349\n",
      "movie name: Brotherhood  (2010)\n",
      "users: 1\n",
      "items: 43\n",
      "movie name: Dead Poets Society (1989)\n",
      "users: 1\n",
      "items: 17486\n",
      "movie name: Dolphin Tale 2 (2014)\n",
      "users: 1\n",
      "items: 44\n",
      "movie name: Femme Nikita, La (Nikita) (1990)\n",
      "users: 1\n",
      "items: 5797\n",
      "movie name: Little Vampire, The (2000)\n",
      "users: 1\n",
      "items: 45\n",
      "movie name: Shining, The (1980)\n",
      "users: 1\n",
      "items: 11142\n",
      "movie name: On Probation (Tiempo de Valientes) (2005)\n",
      "users: 1\n",
      "items: 46\n",
      "movie name: Stand by Me (1986)\n",
      "users: 1\n",
      "items: 5852\n",
      "movie name: Basic Instinct 2 (2006)\n",
      "users: 1\n",
      "items: 47\n",
      "movie name: Evil Dead II (Dead by Dawn) (1987)\n",
      "users: 1\n",
      "items: 17272\n",
      "movie name: Pete Seeger: The Power of Song (2007)\n",
      "users: 1\n",
      "items: 48\n",
      "movie name: Great Escape, The (1963)\n",
      "users: 1\n",
      "items: 10258\n",
      "movie name: Cyrus (2010)\n",
      "users: 1\n",
      "items: 49\n",
      "movie name: Unforgiven (1992)\n",
      "users: 1\n",
      "items: 7631\n",
      "movie name: Empire Falls (2005)\n",
      "users: 1\n",
      "items: 50\n",
      "movie name: Young Frankenstein (1974)\n",
      "users: 1\n",
      "items: 26185\n",
      "movie name: The Concert for Bangladesh (1972)\n",
      "users: 1\n",
      "items: 51\n",
      "movie name: Indiana Jones and the Last Crusade (1989)\n",
      "users: 1\n",
      "items: 5211\n",
      "movie name: Beijing Taxi (2010)\n",
      "users: 1\n",
      "items: 52\n",
      "movie name: Butch Cassidy and the Sundance Kid (1969)\n",
      "users: 1\n",
      "items: 8853\n",
      "movie name: Firehouse Dog (2007)\n",
      "users: 1\n",
      "items: 53\n",
      "movie name: American Werewolf in London, An (1981)\n",
      "users: 1\n",
      "items: 25031\n",
      "movie name: Magnetic Monster, The (1953)\n",
      "users: 1\n",
      "items: 54\n",
      "movie name: Birds, The (1963)\n",
      "users: 1\n",
      "items: 550\n",
      "movie name: Bicentennial Man (1999)\n",
      "users: 1\n",
      "items: 55\n",
      "movie name: Nosferatu (Nosferatu, eine Symphonie des Grauens) (1922)\n",
      "users: 1\n",
      "items: 16233\n",
      "movie name: Robin-B-Hood (Bo bui gai wak) (2006)\n",
      "users: 1\n",
      "items: 56\n",
      "movie name: Omen, The (1976)\n",
      "users: 1\n",
      "items: 15805\n",
      "movie name: Z Channel: A Magnificent Obsession (2004)\n",
      "users: 1\n",
      "items: 57\n",
      "movie name: Sling Blade (1996)\n",
      "users: 1\n",
      "items: 22099\n",
      "movie name: Last American Hero, The (1973)\n",
      "users: 1\n",
      "items: 58\n",
      "movie name: Die Hard 2 (1990)\n",
      "users: 1\n",
      "items: 15731\n",
      "movie name: Car Bonus (Autobonus) (2001)\n",
      "users: 1\n",
      "items: 59\n",
      "movie name: Star Trek II: The Wrath of Khan (1982)\n",
      "users: 1\n",
      "items: 16339\n",
      "movie name: Snowmageddon (2011)\n",
      "users: 1\n",
      "items: 60\n",
      "movie name: Jaws (1975)\n",
      "users: 1\n",
      "items: 24451\n",
      "movie name: The Road to Glory (1936)\n",
      "users: 1\n",
      "items: 61\n",
      "movie name: Warriors of Virtue (1997)\n",
      "users: 1\n",
      "items: 18943\n",
      "movie name: Labyrinth of Lies (2014)\n",
      "users: 1\n",
      "items: 62\n",
      "movie name: Contact (1997)\n",
      "users: 1\n",
      "items: 19692\n",
      "movie name: Blacksmith Scene (1893)\n",
      "users: 1\n",
      "items: 63\n",
      "movie name: Star Kid (1997)\n",
      "users: 1\n",
      "items: 9171\n",
      "movie name: Bambi Meets Godzilla (1969)\n",
      "users: 1\n",
      "items: 64\n",
      "movie name: Borrowers, The (1997)\n",
      "users: 1\n",
      "items: 3361\n",
      "movie name: Living Out Loud (1998)\n",
      "users: 1\n",
      "items: 65\n",
      "movie name: Small Soldiers (1998)\n",
      "users: 1\n",
      "items: 7409\n",
      "movie name: Big Squeeze, The (1996)\n",
      "users: 1\n",
      "items: 66\n",
      "movie name: Labyrinth (1986)\n",
      "users: 1\n",
      "items: 25524\n",
      "movie name: Tonight and Every Night (1945)\n",
      "users: 1\n",
      "items: 67\n",
      "movie name: Poltergeist (1982)\n",
      "users: 1\n",
      "items: 10217\n",
      "movie name: Think Like a Man (2012)\n",
      "users: 1\n",
      "items: 68\n",
      "movie name: Exorcist, The (1973)\n",
      "users: 1\n",
      "items: 18358\n",
      "movie name: Three Musketeers, The (1921)\n",
      "users: 1\n",
      "items: 69\n",
      "movie name: Dune (1984)\n",
      "users: 1\n",
      "items: 22744\n",
      "movie name: Cambridge Spies (2003)\n",
      "users: 1\n",
      "items: 70\n",
      "movie name: Splash (1984)\n",
      "users: 1\n",
      "items: 26634\n",
      "movie name: Black Nativity (2013)\n",
      "users: 1\n",
      "items: 71\n",
      "movie name: Dead Zone, The (1983)\n",
      "users: 1\n",
      "items: 22021\n",
      "movie name: Hôtel des Invalides (1952)\n",
      "users: 1\n",
      "items: 72\n",
      "movie name: Watership Down (1978)\n",
      "users: 1\n",
      "items: 8479\n",
      "movie name: Horrors of Spider Island (Ein Toter Hing im Netz) (1960)\n",
      "users: 1\n",
      "items: 73\n",
      "movie name: Dark Crystal, The (1982)\n",
      "users: 1\n",
      "items: 22841\n",
      "movie name: Khumba (2013)\n",
      "users: 1\n",
      "items: 74\n",
      "movie name: Legend (1985)\n",
      "users: 1\n",
      "items: 16925\n",
      "movie name: Edward II (1991)\n",
      "users: 1\n",
      "items: 75\n",
      "movie name: Navigator: A Mediaeval Odyssey, The (1988)\n",
      "users: 1\n",
      "items: 22398\n",
      "movie name: Amish Grace (2010)\n",
      "users: 1\n",
      "items: 76\n",
      "movie name: Beetlejuice (1988)\n",
      "users: 1\n",
      "items: 13305\n",
      "movie name: Cat and the Canary, The (1927)\n",
      "users: 1\n",
      "items: 77\n",
      "movie name: Willow (1988)\n",
      "users: 1\n",
      "items: 16553\n",
      "movie name: Collision Earth (2011)\n",
      "users: 1\n",
      "items: 78\n",
      "movie name: Untouchables, The (1987)\n",
      "users: 1\n",
      "items: 6956\n",
      "movie name: Breakheart Pass (1975)\n",
      "users: 1\n",
      "items: 79\n",
      "movie name: Toys (1992)\n",
      "users: 1\n",
      "items: 5297\n",
      "movie name: Young at Heart (a.k.a. Young@Heart) (2007)\n",
      "users: 1\n",
      "items: 80\n",
      "movie name: Thing, The (1982)\n",
      "users: 1\n",
      "items: 10244\n",
      "movie name: Robot Carnival (Roboto kânibauru) (1987)\n",
      "users: 1\n",
      "items: 81\n",
      "movie name: Edward Scissorhands (1990)\n",
      "users: 1\n",
      "items: 25406\n",
      "movie name: Codes of Gender, The (2010)\n",
      "users: 1\n",
      "items: 82\n",
      "movie name: Lock, Stock & Two Smoking Barrels (1998)\n",
      "users: 1\n",
      "items: 21112\n",
      "movie name: Triangle (Tie saam gok) (2007)\n",
      "users: 1\n",
      "items: 83\n",
      "movie name: Star Wars: Episode I - The Phantom Menace (1999)\n",
      "users: 1\n",
      "items: 9307\n",
      "movie name: 42 (2013)\n",
      "users: 1\n",
      "items: 84\n",
      "movie name: Dracula (1931)\n",
      "users: 1\n",
      "items: 6967\n",
      "movie name: Godzilla, King of the Monsters! (Kaijû-ô Gojira) (1956)\n",
      "users: 1\n",
      "items: 85\n",
      "movie name: Frankenstein (1931)\n",
      "users: 1\n",
      "items: 3575\n",
      "movie name: House Arrest (1996)\n",
      "users: 1\n",
      "items: 86\n",
      "movie name: Invasion of the Body Snatchers (1956)\n",
      "users: 1\n",
      "items: 23311\n",
      "movie name: M for Mother (Mim mesle madar) (2006)\n",
      "users: 1\n",
      "items: 87\n",
      "movie name: Austin Powers: The Spy Who Shagged Me (1999)\n",
      "users: 1\n",
      "items: 2436\n",
      "movie name: Color of Money, The (1986)\n",
      "users: 1\n",
      "items: 88\n",
      "movie name: Run Lola Run (Lola rennt) (1998)\n",
      "users: 1\n",
      "items: 5891\n",
      "movie name: Ink (2009)\n",
      "users: 1\n",
      "items: 89\n",
      "movie name: Ghostbusters (a.k.a. Ghost Busters) (1984)\n",
      "users: 1\n",
      "items: 26366\n",
      "movie name: Decoys 2: Alien Seduction (2007)\n",
      "users: 1\n",
      "items: 90\n",
      "movie name: Iron Giant, The (1999)\n",
      "users: 1\n",
      "items: 5751\n",
      "movie name: When the Cat's Away (Chacun cherche son chat) (1996)\n",
      "users: 1\n",
      "items: 91\n",
      "movie name: Sixth Sense, The (1999)\n",
      "users: 1\n",
      "items: 5959\n",
      "movie name: Meatballs III (1987)\n",
      "users: 1\n",
      "items: 92\n",
      "movie name: Christmas Story, A (1983)\n",
      "users: 1\n",
      "items: 19621\n",
      "movie name: The Hire: Hostage (2002)\n",
      "users: 1\n",
      "items: 93\n",
      "movie name: Excalibur (1981)\n",
      "users: 1\n",
      "items: 16052\n",
      "movie name: The Natural Love (1996)\n",
      "users: 1\n",
      "items: 94\n",
      "movie name: Ferris Bueller's Day Off (1986)\n",
      "users: 1\n",
      "items: 24965\n",
      "movie name: L.A. Zombie (2010)\n",
      "users: 1\n",
      "items: 95\n",
      "movie name: Dirty Dozen, The (1967)\n",
      "users: 1\n",
      "items: 7439\n",
      "movie name: American: The Bill Hicks Story (2009)\n",
      "users: 1\n",
      "items: 96\n",
      "movie name: Goldfinger (1964)\n",
      "users: 1\n",
      "items: 24534\n",
      "movie name: The D.I. (1957)\n",
      "users: 1\n",
      "items: 97\n",
      "movie name: Fight Club (1999)\n",
      "users: 1\n",
      "items: 14471\n",
      "movie name: Who's Singin' Over There? (a.k.a. Who Sings Over There) (Ko to tamo peva) (1980)\n",
      "users: 1\n",
      "items: 98\n",
      "movie name: Time Bandits (1981)\n",
      "users: 1\n",
      "items: 17637\n",
      "movie name: Operation Mad Ball (1957)\n",
      "users: 1\n",
      "items: 99\n",
      "movie name: Princess Mononoke (Mononoke-hime) (1997)\n",
      "users: 1\n",
      "items: 3057\n",
      "movie name: Crazy, Stupid, Love. (2011)\n",
      "users: 1\n",
      "items: 100\n",
      "movie name: Yojimbo (1961)\n",
      "users: 1\n",
      "items: 11956\n",
      "movie name: Michael (2011)\n",
      "users: 1\n",
      "items: 101\n",
      "movie name: Little Big Man (1970)\n",
      "users: 1\n",
      "items: 10200\n",
      "movie name: Land of the Blind (2006)\n",
      "users: 1\n",
      "items: 102\n",
      "movie name: Sleepy Hollow (1999)\n",
      "users: 1\n",
      "items: 22655\n",
      "movie name: Hotel Hell Vacation (2010)\n",
      "users: 1\n",
      "items: 103\n",
      "movie name: 7th Voyage of Sinbad, The (1958)\n",
      "users: 1\n",
      "items: 11755\n",
      "movie name: Avenue Montaigne (Fauteuils d'orchestre) (2006)\n",
      "users: 1\n",
      "items: 104\n",
      "movie name: Hard-Boiled (Lat sau san taam) (1992)\n",
      "users: 1\n",
      "items: 23420\n",
      "movie name: Last Casino, The (2004)\n",
      "users: 1\n",
      "items: 105\n",
      "movie name: Teenage Mutant Ninja Turtles (1990)\n",
      "users: 1\n",
      "items: 14705\n",
      "movie name: Jackpot (2001)\n",
      "users: 1\n",
      "items: 106\n",
      "movie name: Jacob's Ladder (1990)\n",
      "users: 1\n",
      "items: 322\n",
      "movie name: 8MM (1999)\n",
      "users: 1\n",
      "items: 107\n",
      "movie name: Ladyhawke (1985)\n",
      "users: 1\n",
      "items: 6193\n",
      "movie name: Runaways, The (2010)\n",
      "users: 1\n",
      "items: 108\n",
      "movie name: Hook (1991)\n",
      "users: 1\n",
      "items: 25157\n",
      "movie name: Ingmar Bergman Makes a Movie (Ingmar Bergman gör en film) (1963)\n",
      "users: 1\n",
      "items: 109\n",
      "movie name: Misery (1990)\n",
      "users: 1\n",
      "items: 3200\n",
      "movie name: Bread and Chocolate (Pane e cioccolata) (1973)\n",
      "users: 1\n",
      "items: 110\n",
      "movie name: Highlander: Endgame (Highlander IV) (2000)\n",
      "users: 1\n",
      "items: 2414\n",
      "movie name: Dial M for Murder (1954)\n",
      "users: 1\n",
      "items: 111\n",
      "movie name: Invisible Man, The (1933)\n",
      "users: 1\n",
      "items: 22603\n",
      "movie name: Deadly Voyage (1996)\n",
      "users: 1\n",
      "items: 112\n",
      "movie name: Crouching Tiger, Hidden Dragon (Wo hu cang long) (2000)\n",
      "users: 1\n",
      "items: 10337\n",
      "movie name: Blue Spring (Aoi haru) (2001)\n",
      "users: 1\n",
      "items: 113\n",
      "movie name: Dungeons & Dragons (2000)\n",
      "users: 1\n",
      "items: 26509\n",
      "movie name: See Heaven (1995)\n",
      "users: 1\n",
      "items: 114\n",
      "movie name: Snatch (2000)\n",
      "users: 1\n",
      "items: 17607\n",
      "movie name: Lucky Them (2013)\n",
      "users: 1\n",
      "items: 115\n",
      "movie name: O Brother, Where Art Thou? (2000)\n",
      "users: 1\n",
      "items: 25344\n",
      "movie name: Dead Rising: Watchtower (2015)\n",
      "users: 1\n",
      "items: 116\n",
      "movie name: Evil Dead, The (1981)\n",
      "users: 1\n",
      "items: 24777\n",
      "movie name: Peas at 5:30 (Erbsen auf halb 6) (2004)\n",
      "users: 1\n",
      "items: 117\n",
      "movie name: Lost Boys, The (1987)\n",
      "users: 1\n",
      "items: 8177\n",
      "movie name: Quigley Down Under (1990)\n",
      "users: 1\n",
      "items: 118\n",
      "movie name: Masters of the Universe (1987)\n",
      "users: 1\n",
      "items: 3190\n",
      "movie name: In the Realm of the Senses (Ai no corrida) (1976)\n",
      "users: 1\n",
      "items: 119\n",
      "movie name: Memento (2000)\n",
      "users: 1\n",
      "items: 20182\n",
      "movie name: Wings (Krylya) (1966)\n",
      "users: 1\n",
      "items: 120\n",
      "movie name: Shrek (2001)\n",
      "users: 1\n",
      "items: 7636\n",
      "movie name: Hitcher, The (2007)\n",
      "users: 1\n",
      "items: 121\n",
      "movie name: Final Fantasy: The Spirits Within (2001)\n",
      "users: 1\n",
      "items: 8285\n",
      "movie name: Phantom of the Opera, The (1925)\n",
      "users: 1\n",
      "items: 122\n",
      "movie name: Adventures of Baron Munchausen, The (1988)\n",
      "users: 1\n",
      "items: 22663\n",
      "movie name: Lady Dragon (1992)\n",
      "users: 1\n",
      "items: 123\n",
      "movie name: Bill & Ted's Excellent Adventure (1989)\n",
      "users: 1\n",
      "items: 2859\n",
      "movie name: Bait (2000)\n",
      "users: 1\n",
      "items: 124\n",
      "movie name: Others, The (2001)\n",
      "users: 1\n",
      "items: 26085\n",
      "movie name: Stunt Squad (1977)\n",
      "users: 1\n",
      "items: 125\n",
      "movie name: Wicker Man, The (1973)\n",
      "users: 1\n",
      "items: 22947\n",
      "movie name: Confidence Girl (1952)\n",
      "users: 1\n",
      "items: 126\n",
      "movie name: Donnie Darko (2001)\n",
      "users: 1\n",
      "items: 20356\n",
      "movie name: Mister Johnson (1990)\n",
      "users: 1\n",
      "items: 127\n",
      "movie name: Harry Potter and the Sorcerer's Stone (a.k.a. Harry Potter and the Philosopher's Stone) (2001)\n",
      "users: 1\n",
      "items: 14279\n",
      "movie name: Kill! (Kiru) (1968)\n",
      "users: 1\n",
      "items: 128\n",
      "movie name: Jabberwocky (1977)\n",
      "users: 1\n",
      "items: 12796\n",
      "movie name: Ali Zoua: Prince of the Streets (Ali Zaoua, prince de la rue) (2000)\n",
      "users: 1\n",
      "items: 129\n",
      "movie name: Beastmaster, The (1982)\n",
      "users: 1\n",
      "items: 16148\n",
      "movie name: Kelly & Cal (2014)\n",
      "users: 1\n",
      "items: 130\n",
      "movie name: Flash Gordon (1980)\n",
      "users: 1\n",
      "items: 13746\n",
      "movie name: Ambassador, The (Ambassadøren) (2011)\n",
      "users: 1\n",
      "items: 131\n",
      "movie name: Bill & Ted's Bogus Journey (1991)\n",
      "users: 1\n",
      "items: 6469\n",
      "movie name: 88 Minutes (2008)\n",
      "users: 1\n",
      "items: 132\n",
      "movie name: Lord of the Rings: The Fellowship of the Ring, The (2001)\n",
      "users: 1\n",
      "items: 13242\n",
      "movie name: Best of Times, The (1986)\n",
      "users: 1\n",
      "items: 133\n",
      "movie name: Brotherhood of the Wolf (Pacte des loups, Le) (2001)\n",
      "users: 1\n",
      "items: 17328\n",
      "movie name: Pain in the Ass, A (L'emmerdeur) (2008)\n",
      "users: 1\n",
      "items: 134\n",
      "movie name: Dragonslayer (1981)\n",
      "users: 1\n",
      "items: 17817\n",
      "movie name: Tokyo Chorus (Tôkyô no kôrasu) (1931)\n",
      "users: 1\n",
      "items: 135\n",
      "movie name: Conan the Destroyer (1984)\n",
      "users: 1\n",
      "items: 16138\n",
      "movie name: Cottage Country (2013)\n",
      "users: 1\n",
      "items: 136\n",
      "movie name: Vampire Hunter D: Bloodlust (Banpaia hantâ D) (2000)\n",
      "users: 1\n",
      "items: 12942\n",
      "movie name: Evidence (2013)\n",
      "users: 1\n",
      "items: 137\n",
      "movie name: Time Machine, The (2002)\n",
      "users: 1\n",
      "items: 5146\n",
      "movie name: Hearts of Darkness: A Filmmakers Apocalypse (1991)\n",
      "users: 1\n",
      "items: 138\n",
      "movie name: Clash of the Titans (1981)\n",
      "users: 1\n",
      "items: 7904\n",
      "movie name: Leningrad Cowboys Go America (1989)\n",
      "users: 1\n",
      "items: 139\n",
      "movie name: Ring, The (2002)\n",
      "users: 1\n",
      "items: 3604\n",
      "movie name: Blues Brothers 2000 (1998)\n",
      "users: 1\n",
      "items: 140\n",
      "movie name: Company of Wolves, The (1984)\n",
      "users: 1\n",
      "items: 14717\n",
      "movie name: Emergo (Apartment 143) (2011)\n",
      "users: 1\n",
      "items: 141\n",
      "movie name: Harry Potter and the Chamber of Secrets (2002)\n",
      "users: 1\n",
      "items: 1621\n",
      "movie name: What's the Worst That Could Happen? (2001)\n",
      "users: 1\n",
      "items: 142\n",
      "movie name: Sword and the Sorcerer, The (1982)\n",
      "users: 1\n",
      "items: 5464\n",
      "movie name: Escape Plan (2013)\n",
      "users: 1\n",
      "items: 143\n",
      "movie name: Lord of the Rings: The Two Towers, The (2002)\n",
      "users: 1\n",
      "items: 17278\n",
      "movie name: Boys from Fengkuei, The (Feng gui lai de ren) (1983)\n",
      "users: 1\n",
      "items: 144\n",
      "movie name: Heavy Metal 2000 (2000)\n",
      "users: 1\n",
      "items: 2445\n",
      "movie name: Guardian, The (1990)\n",
      "users: 1\n",
      "items: 145\n",
      "movie name: Last Unicorn, The (1982)\n",
      "users: 1\n",
      "items: 450\n",
      "movie name: American Buffalo (1996)\n",
      "users: 1\n",
      "items: 146\n",
      "movie name: Ringu (Ring) (1998)\n",
      "users: 1\n",
      "items: 5181\n",
      "movie name: Diving Bell and the Butterfly, The (Scaphandre et le papillon, Le) (2007)\n",
      "users: 1\n",
      "items: 147\n",
      "movie name: X2: X-Men United (2003)\n",
      "users: 1\n",
      "items: 930\n",
      "movie name: Chronicles of Narnia: The Lion, the Witch and the Wardrobe, The (2005)\n",
      "users: 1\n",
      "items: 148\n",
      "movie name: 28 Days Later (2002)\n",
      "users: 1\n",
      "items: 12712\n",
      "movie name: Essential Killing (2010)\n",
      "users: 1\n",
      "items: 149\n",
      "movie name: Pirates of the Caribbean: The Curse of the Black Pearl (2003)\n",
      "users: 1\n",
      "items: 11579\n",
      "movie name: Deadly Prey (1987)\n",
      "users: 1\n",
      "items: 150\n",
      "movie name: Underworld (2003)\n",
      "users: 1\n",
      "items: 1423\n",
      "movie name: Thomas Crown Affair, The (1999)\n",
      "users: 1\n",
      "items: 151\n",
      "movie name: Bubba Ho-tep (2002)\n",
      "users: 1\n",
      "items: 6872\n",
      "movie name: Sons of Katie Elder (1965)\n",
      "users: 1\n",
      "items: 152\n",
      "movie name: Videodrome (1983)\n",
      "users: 1\n",
      "items: 20665\n",
      "movie name: Alien Space Avenger (1989)\n",
      "users: 1\n",
      "items: 153\n",
      "movie name: Monty Python's The Meaning of Life (1983)\n",
      "users: 1\n",
      "items: 96\n",
      "movie name: Goldfinger (1964)\n",
      "users: 1\n",
      "items: 154\n",
      "movie name: Wilder Napalm (1993)\n",
      "users: 1\n",
      "items: 23793\n",
      "movie name: Guide, The (O Xenagos) (2011)\n",
      "users: 1\n",
      "items: 155\n",
      "movie name: Scary Movie 3 (2003)\n",
      "users: 1\n",
      "items: 10394\n",
      "movie name: Don't Tell Anyone (No se lo digas a nadie) (1998)\n",
      "users: 1\n",
      "items: 156\n",
      "movie name: Invasion of the Body Snatchers (1978)\n",
      "users: 1\n",
      "items: 18043\n",
      "movie name: Dragon Eyes (2012)\n",
      "users: 1\n",
      "items: 157\n",
      "movie name: Witches, The (1990)\n",
      "users: 1\n",
      "items: 6765\n",
      "movie name: Kingdom of the Spiders (1977)\n",
      "users: 1\n",
      "items: 158\n",
      "movie name: Witches of Eastwick, The (1987)\n",
      "users: 1\n",
      "items: 7438\n",
      "movie name: Marriage Italian Style (Matrimonio all'italiana) (1964)\n",
      "users: 1\n",
      "items: 159\n",
      "movie name: Lord of the Rings: The Return of the King, The (2003)\n",
      "users: 1\n",
      "items: 20599\n",
      "movie name: Crimson Wing: Mystery of the Flamingos, The (2008)\n",
      "users: 1\n",
      "items: 160\n",
      "movie name: Peter Pan (2003)\n",
      "users: 1\n",
      "items: 20144\n",
      "movie name: Piggy (2012)\n",
      "users: 1\n",
      "items: 161\n",
      "movie name: Chitty Chitty Bang Bang (1968)\n",
      "users: 1\n",
      "items: 8680\n",
      "movie name: Blame It on the Bellboy (1992)\n",
      "users: 1\n",
      "items: 162\n",
      "movie name: Dawn of the Dead (1978)\n",
      "users: 1\n",
      "items: 17909\n",
      "movie name: Music Man, The (2003)\n",
      "users: 1\n",
      "items: 163\n",
      "movie name: One Million Years B.C. (1966)\n",
      "users: 1\n",
      "items: 1851\n",
      "movie name: Green Lantern (2011)\n",
      "users: 1\n",
      "items: 164\n",
      "movie name: Kill Bill: Vol. 2 (2004)\n",
      "users: 1\n",
      "items: 22667\n",
      "movie name: Strip-tease (1963)\n",
      "users: 1\n",
      "items: 165\n",
      "movie name: Godsend (2004)\n",
      "users: 1\n",
      "items: 18276\n",
      "movie name: Promoter, The (Card, The) (1952)\n",
      "users: 1\n",
      "items: 166\n",
      "movie name: Van Helsing (2004)\n",
      "users: 1\n",
      "items: 6713\n",
      "movie name: Mass Appeal (1984)\n",
      "users: 1\n",
      "items: 167\n",
      "movie name: Enter the Dragon (1973)\n",
      "users: 1\n",
      "items: 21496\n",
      "movie name: The Batman vs. Dracula (2005)\n",
      "users: 1\n",
      "items: 168\n",
      "movie name: Jason and the Argonauts (1963)\n",
      "users: 1\n",
      "items: 4122\n",
      "movie name: Amos & Andrew (1993)\n",
      "users: 1\n",
      "items: 169\n",
      "movie name: Harry Potter and the Prisoner of Azkaban (2004)\n",
      "users: 1\n",
      "items: 11630\n",
      "movie name: 7 Days (Les 7 jours du talion) (2010)\n",
      "users: 1\n",
      "items: 170\n",
      "movie name: Picture of Dorian Gray, The (1945)\n",
      "users: 1\n",
      "items: 3996\n",
      "movie name: Zodiac (2007)\n",
      "users: 1\n",
      "items: 171\n",
      "movie name: Freaks (1932)\n",
      "users: 1\n",
      "items: 18654\n",
      "movie name: White Cliffs of Dover, The (1944)\n",
      "users: 1\n",
      "items: 172\n",
      "movie name: Spider-Man 2 (2004)\n",
      "users: 1\n",
      "items: 18585\n",
      "movie name: Win/win (2010)\n",
      "users: 1\n",
      "items: 173\n",
      "movie name: Slaughterhouse-Five (1972)\n",
      "users: 1\n",
      "items: 4077\n",
      "movie name: Tristan & Isolde (2006)\n",
      "users: 1\n",
      "items: 174\n",
      "movie name: Incredibles, The (2004)\n",
      "users: 1\n",
      "items: 16325\n",
      "movie name: Truth About Love, The (2005)\n",
      "users: 1\n",
      "items: 175\n",
      "movie name: Constantine (2005)\n",
      "users: 1\n",
      "items: 9836\n",
      "movie name: Grind (2003)\n"
     ]
    }
   ],
   "source": [
    "i =0\n",
    "##MOVIEID2iDX TO IDENTIFY THE MOVIE NAMES\n",
    "while(user_train[i]==1):\n",
    "    i = i+1\n",
    "for j in range(0,i):\n",
    "    print(\"users: {}\".format(user_train[j]))\n",
    "    print(\"items: {}\".format(item_train[j]))\n",
    "#     print(\"movie id: {}\".format(removieid2idx[item_train[j]]))\n",
    "    x = removieid2idx[item_train[j]]\n",
    "    print(\"movie name: {}\".format(keys[x]))\n",
    "    "
   ]
  },
  {
   "cell_type": "code",
   "execution_count": null,
   "metadata": {},
   "outputs": [],
   "source": []
  },
  {
   "cell_type": "markdown",
   "metadata": {},
   "source": [
    "CONTENT BASED FILTERING "
   ]
  },
  {
   "cell_type": "code",
   "execution_count": 36,
   "metadata": {},
   "outputs": [],
   "source": [
    "movie_csv = pd.read_csv('/kaggle/input/movielens-20m-dataset/movie.csv')"
   ]
  },
  {
   "cell_type": "code",
   "execution_count": 37,
   "metadata": {},
   "outputs": [],
   "source": [
    "tags_csv= pd.read_csv('/kaggle/input/movielens-20m-dataset/tag.csv')"
   ]
  },
  {
   "cell_type": "code",
   "execution_count": 38,
   "metadata": {},
   "outputs": [
    {
     "data": {
      "text/html": [
       "<div>\n",
       "<style scoped>\n",
       "    .dataframe tbody tr th:only-of-type {\n",
       "        vertical-align: middle;\n",
       "    }\n",
       "\n",
       "    .dataframe tbody tr th {\n",
       "        vertical-align: top;\n",
       "    }\n",
       "\n",
       "    .dataframe thead th {\n",
       "        text-align: right;\n",
       "    }\n",
       "</style>\n",
       "<table border=\"1\" class=\"dataframe\">\n",
       "  <thead>\n",
       "    <tr style=\"text-align: right;\">\n",
       "      <th></th>\n",
       "      <th>userId</th>\n",
       "      <th>movieId</th>\n",
       "      <th>tag</th>\n",
       "      <th>timestamp</th>\n",
       "    </tr>\n",
       "  </thead>\n",
       "  <tbody>\n",
       "    <tr>\n",
       "      <th>0</th>\n",
       "      <td>18</td>\n",
       "      <td>4141</td>\n",
       "      <td>Mark Waters</td>\n",
       "      <td>2009-04-24 18:19:40</td>\n",
       "    </tr>\n",
       "    <tr>\n",
       "      <th>1</th>\n",
       "      <td>65</td>\n",
       "      <td>208</td>\n",
       "      <td>dark hero</td>\n",
       "      <td>2013-05-10 01:41:18</td>\n",
       "    </tr>\n",
       "    <tr>\n",
       "      <th>2</th>\n",
       "      <td>65</td>\n",
       "      <td>353</td>\n",
       "      <td>dark hero</td>\n",
       "      <td>2013-05-10 01:41:19</td>\n",
       "    </tr>\n",
       "    <tr>\n",
       "      <th>3</th>\n",
       "      <td>65</td>\n",
       "      <td>521</td>\n",
       "      <td>noir thriller</td>\n",
       "      <td>2013-05-10 01:39:43</td>\n",
       "    </tr>\n",
       "    <tr>\n",
       "      <th>4</th>\n",
       "      <td>65</td>\n",
       "      <td>592</td>\n",
       "      <td>dark hero</td>\n",
       "      <td>2013-05-10 01:41:18</td>\n",
       "    </tr>\n",
       "  </tbody>\n",
       "</table>\n",
       "</div>"
      ],
      "text/plain": [
       "   userId  movieId            tag            timestamp\n",
       "0      18     4141    Mark Waters  2009-04-24 18:19:40\n",
       "1      65      208      dark hero  2013-05-10 01:41:18\n",
       "2      65      353      dark hero  2013-05-10 01:41:19\n",
       "3      65      521  noir thriller  2013-05-10 01:39:43\n",
       "4      65      592      dark hero  2013-05-10 01:41:18"
      ]
     },
     "execution_count": 38,
     "metadata": {},
     "output_type": "execute_result"
    }
   ],
   "source": [
    "tags_csv.head()"
   ]
  },
  {
   "cell_type": "code",
   "execution_count": 39,
   "metadata": {},
   "outputs": [],
   "source": [
    "from collections import defaultdict\n",
    "movieid = defaultdict(list)\n",
    "for i in range(0,len(tags_csv)):\n",
    "    movieid[tags_csv['movieId'].iloc[i]].append(str(tags_csv['tag'].iloc[i]))\n",
    "        "
   ]
  },
  {
   "cell_type": "code",
   "execution_count": 40,
   "metadata": {},
   "outputs": [
    {
     "data": {
      "text/plain": [
       "19545"
      ]
     },
     "execution_count": 40,
     "metadata": {},
     "output_type": "execute_result"
    }
   ],
   "source": [
    "len(movieid)"
   ]
  },
  {
   "cell_type": "code",
   "execution_count": 41,
   "metadata": {},
   "outputs": [],
   "source": [
    "movieidslist = []\n",
    "moviemap = defaultdict()\n",
    "j = 0\n",
    "for key,values in movieid.items():\n",
    "    movieidslist.append((' ').join(values))\n",
    "    moviemap[key] = j\n",
    "    j =j+1\n",
    "    "
   ]
  },
  {
   "cell_type": "code",
   "execution_count": 42,
   "metadata": {},
   "outputs": [],
   "source": [
    "moviemap\n",
    "moviemapreverse = defaultdict(list)\n",
    "for key,value in moviemap.items():\n",
    "    moviemapreverse[value] = key"
   ]
  },
  {
   "cell_type": "code",
   "execution_count": 43,
   "metadata": {},
   "outputs": [],
   "source": [
    "#print(moviemapreverse)\n"
   ]
  },
  {
   "cell_type": "code",
   "execution_count": 44,
   "metadata": {},
   "outputs": [],
   "source": [
    "#print(moviemap)\n"
   ]
  },
  {
   "cell_type": "code",
   "execution_count": 45,
   "metadata": {},
   "outputs": [],
   "source": [
    "vectorizer = TfidfVectorizer(max_features  = 3000)\n",
    "vectors = vectorizer.fit_transform(movieidslist)"
   ]
  },
  {
   "cell_type": "code",
   "execution_count": 46,
   "metadata": {},
   "outputs": [],
   "source": [
    "# vectors.shape\n",
    "# vectors.shape\n",
    "array = vectors.toarray()"
   ]
  },
  {
   "cell_type": "code",
   "execution_count": 47,
   "metadata": {},
   "outputs": [
    {
     "data": {
      "text/plain": [
       "(19545, 3000)"
      ]
     },
     "execution_count": 47,
     "metadata": {},
     "output_type": "execute_result"
    }
   ],
   "source": [
    "array.shape"
   ]
  },
  {
   "cell_type": "markdown",
   "metadata": {},
   "source": [
    "EXTRACTING FEATURES USING AUTOENCODERS"
   ]
  },
  {
   "cell_type": "code",
   "execution_count": 48,
   "metadata": {},
   "outputs": [],
   "source": [
    "from keras import models\n",
    "from keras.models import Model\n",
    "\n",
    "from keras.layers import Dense,Embedding,Input,Flatten,Dropout\n",
    "from keras.optimizers import Adam"
   ]
  },
  {
   "cell_type": "code",
   "execution_count": 49,
   "metadata": {},
   "outputs": [],
   "source": [
    "def getmodel(latent_factors,features):\n",
    "    model = models.Sequential()\n",
    "    model.add(Dense(4096,activation = 'relu', input_shape=(24111,)))\n",
    "    model.add(Dense(1024,activation = 'relu'))\n",
    "    model.add(Dense(512,activation= 'relu'))\n",
    "    model.add(Dense(128,activation = 'relu'))\n",
    "    model.add(Dense(latent_factors,activation = 'relu'))\n",
    "    model.add(Dense(128,activation = 'relu'))\n",
    "    model.add(Dense(256,activation = 'relu'))\n",
    "    model.add(Dense(1024,activation = 'relu'))\n",
    "    model.add(Dense(4096,activation = 'relu'))\n",
    "    model.add(Dense(features,activation = 'sigmoid'))\n",
    "    return model\n",
    "                    \n",
    "def getmodel1(latent_factors, features):\n",
    "    inp1 = Input(shape=(features,))\n",
    "    #d1 = Dense(4096, activation='relu')(inp1)\n",
    "    #d1 = Dropout(0.3)(d1)\n",
    "    #d1 = Dense(1024, activation='relu')(inp1)\n",
    "    #d1 = Dense(512, activation='relu')(inp1)\n",
    "    #d1 = Dense(128, activation='relu')(d1)\n",
    "    d1 = Dense(latent_factors, activation='relu')(inp1)\n",
    "   #d1 = Dense(128, activation='relu')(d1)\n",
    "    #d1 = Dense(512, activation='tanh')(d1)\n",
    "    #d1 = Dense(1024, activation='relu')(d1)\n",
    "    #|d1 = Dense(4096, activation='relu')(d1)\n",
    "    d1 = Dense(features, activation='sigmoid')(d1)\n",
    "    model = Model(inputs=inp1, outputs=d1)\n",
    "    \n",
    "    return model"
   ]
  },
  {
   "cell_type": "code",
   "execution_count": 50,
   "metadata": {},
   "outputs": [
    {
     "name": "stdout",
     "output_type": "stream",
     "text": [
      "(19545, 3000)\n",
      "Model: \"model_2\"\n",
      "_________________________________________________________________\n",
      "Layer (type)                 Output Shape              Param #   \n",
      "=================================================================\n",
      "input_3 (InputLayer)         (None, 3000)              0         \n",
      "_________________________________________________________________\n",
      "dense_5 (Dense)              (None, 32)                96032     \n",
      "_________________________________________________________________\n",
      "dense_6 (Dense)              (None, 3000)              99000     \n",
      "=================================================================\n",
      "Total params: 195,032\n",
      "Trainable params: 195,032\n",
      "Non-trainable params: 0\n",
      "_________________________________________________________________\n"
     ]
    }
   ],
   "source": [
    "print(vectors.shape)\n",
    "features = vectors.shape[1]\n",
    "#print(features.shape)\n",
    "#features = features.reshape(-1,)\n",
    "latentfactors = 32\n",
    "model = getmodel1(latentfactors,features)\n",
    "model.compile(loss = 'binary_crossentropy',optimizer = Adam(0.01),metrics = ['acc'])\n",
    "model.summary()"
   ]
  },
  {
   "cell_type": "code",
   "execution_count": 51,
   "metadata": {},
   "outputs": [
    {
     "name": "stdout",
     "output_type": "stream",
     "text": [
      "Train on 17590 samples, validate on 1955 samples\n",
      "Epoch 1/1\n",
      "17590/17590 [==============================] - 2s 128us/step - loss: 0.0272 - acc: 0.9944 - val_loss: 0.0041 - val_acc: 0.9991\n"
     ]
    }
   ],
   "source": [
    "model_autoencoder = model.fit(array,array,epochs = 1,validation_split = 0.1)"
   ]
  },
  {
   "cell_type": "code",
   "execution_count": 52,
   "metadata": {},
   "outputs": [],
   "source": [
    "model.save('/kaggle/working/model_autoencoder.h5')"
   ]
  },
  {
   "cell_type": "markdown",
   "metadata": {},
   "source": [
    "len(model.layers)"
   ]
  },
  {
   "cell_type": "code",
   "execution_count": 53,
   "metadata": {},
   "outputs": [
    {
     "data": {
      "text/plain": [
       "[<keras.engine.input_layer.InputLayer at 0x7f2ccbfcdf98>,\n",
       " <keras.layers.core.Dense at 0x7f2ccbfcdef0>,\n",
       " <keras.layers.core.Dense at 0x7f2ccbfcd160>]"
      ]
     },
     "execution_count": 53,
     "metadata": {},
     "output_type": "execute_result"
    }
   ],
   "source": [
    "model.layers"
   ]
  },
  {
   "cell_type": "code",
   "execution_count": 54,
   "metadata": {},
   "outputs": [
    {
     "name": "stdout",
     "output_type": "stream",
     "text": [
      "Model: \"model_2\"\n",
      "_________________________________________________________________\n",
      "Layer (type)                 Output Shape              Param #   \n",
      "=================================================================\n",
      "input_3 (InputLayer)         (None, 3000)              0         \n",
      "_________________________________________________________________\n",
      "dense_5 (Dense)              (None, 32)                96032     \n",
      "_________________________________________________________________\n",
      "dense_6 (Dense)              (None, 3000)              99000     \n",
      "=================================================================\n",
      "Total params: 195,032\n",
      "Trainable params: 195,032\n",
      "Non-trainable params: 0\n",
      "_________________________________________________________________\n"
     ]
    }
   ],
   "source": [
    "model.summary()"
   ]
  },
  {
   "cell_type": "code",
   "execution_count": 55,
   "metadata": {},
   "outputs": [
    {
     "data": {
      "text/plain": [
       "3"
      ]
     },
     "execution_count": 55,
     "metadata": {},
     "output_type": "execute_result"
    }
   ],
   "source": [
    "len(model.layers)"
   ]
  },
  {
   "cell_type": "code",
   "execution_count": 56,
   "metadata": {},
   "outputs": [],
   "source": [
    "modell = models.Sequential()\n",
    "count = 0\n",
    "for i in model.layers:\n",
    "    if(count<2):\n",
    "        modell.add(i)\n",
    "    count = count+1"
   ]
  },
  {
   "cell_type": "code",
   "execution_count": 57,
   "metadata": {},
   "outputs": [
    {
     "name": "stdout",
     "output_type": "stream",
     "text": [
      "Model: \"sequential_1\"\n",
      "_________________________________________________________________\n",
      "Layer (type)                 Output Shape              Param #   \n",
      "=================================================================\n",
      "dense_5 (Dense)              (None, 32)                96032     \n",
      "=================================================================\n",
      "Total params: 96,032\n",
      "Trainable params: 96,032\n",
      "Non-trainable params: 0\n",
      "_________________________________________________________________\n"
     ]
    }
   ],
   "source": [
    "modell.summary()"
   ]
  },
  {
   "cell_type": "code",
   "execution_count": 58,
   "metadata": {},
   "outputs": [],
   "source": [
    "def getid(x):\n",
    "    return moviemapreverse[x]\n",
    "def getidreverse(x):\n",
    "    return moviemap[x]"
   ]
  },
  {
   "cell_type": "markdown",
   "metadata": {},
   "source": [
    "CHECK PREDICTIONS OF PREVIOUS ITEMS"
   ]
  },
  {
   "cell_type": "code",
   "execution_count": 59,
   "metadata": {},
   "outputs": [],
   "source": [
    "def getinfo(x):\n",
    "    iid = getid(x)\n",
    "    moviename = np.where(movie_csv['movieId'] == iid)\n",
    "    moviename = list(moviename)[0]\n",
    "    moviename = moviename[0]\n",
    "    print(\"movie_name :{}\".format(movie_csv.iloc[moviename]))\n",
    "    print('\\n Movie descriptions: {}'.format(movieidslist[x]))\n"
   ]
  },
  {
   "cell_type": "code",
   "execution_count": 60,
   "metadata": {},
   "outputs": [],
   "source": [
    "a = []\n",
    "a.append(movieidslist[875])\n",
    "#getinfo(875)\n",
    "vector_item = vectorizer.transform(a)\n",
    "ans = modell.predict(vector_item)"
   ]
  },
  {
   "cell_type": "code",
   "execution_count": 61,
   "metadata": {},
   "outputs": [],
   "source": [
    "b = []\n",
    "b.append(movieidslist[87])\n",
    "#getinfo(87)\n",
    "vector_items1 = vectorizer.transform(b)\n",
    "ansa = modell.predict(vector_items1)"
   ]
  },
  {
   "cell_type": "code",
   "execution_count": 62,
   "metadata": {},
   "outputs": [],
   "source": [
    "val = cosine_similarity(ans,ansa)"
   ]
  },
  {
   "cell_type": "code",
   "execution_count": 63,
   "metadata": {},
   "outputs": [
    {
     "name": "stdout",
     "output_type": "stream",
     "text": [
      "[[0.99976265]]\n"
     ]
    }
   ],
   "source": [
    "print(val)"
   ]
  },
  {
   "cell_type": "code",
   "execution_count": 64,
   "metadata": {},
   "outputs": [],
   "source": [
    "len(movieidslist)\n",
    "predictlistvectors= []\n",
    "\n",
    "for i in movieidslist:\n",
    "    x = []\n",
    "    x.append(i)\n",
    "    y = vectorizer.transform(x)\n",
    "    predictlistvectors.append(modell.predict(y))"
   ]
  },
  {
   "cell_type": "code",
   "execution_count": 65,
   "metadata": {},
   "outputs": [],
   "source": [
    "#START FROM HERE\n",
    "#ITERATE THROUGH LIST OF ITEMS AND WITH THE USE OF EMBEDDINGS FIND THE MOST SIMILAR ITEM USING COSINE SIMILARITY \n",
    "#ITEM 1 PREDICTIONS ARE FOUND. CREATE DEFINE FOR GETTING INFORMATIONS\n",
    "# predictions = []\n",
    "# for i,j in enumerate(movieidslist):\n",
    "    \n",
    "    "
   ]
  },
  {
   "cell_type": "code",
   "execution_count": 66,
   "metadata": {},
   "outputs": [],
   "source": [
    "cosines = []\n",
    "for i in predictlistvectors:\n",
    "    sim = cosine_similarity(ans,i)\n",
    "    cosines.append(sim)"
   ]
  },
  {
   "cell_type": "code",
   "execution_count": 67,
   "metadata": {},
   "outputs": [],
   "source": [
    "from collections import defaultdict\n",
    "cosines_id = []\n",
    "for i,j in enumerate(cosines):\n",
    "    cosines_id.append([i,j])"
   ]
  },
  {
   "cell_type": "code",
   "execution_count": 68,
   "metadata": {},
   "outputs": [],
   "source": [
    "def keysort(cosine_id):\n",
    "    return cosine_id[1]\n",
    "    "
   ]
  },
  {
   "cell_type": "code",
   "execution_count": 69,
   "metadata": {},
   "outputs": [],
   "source": [
    "cosines_id.sort(reverse= True,key = keysort)"
   ]
  },
  {
   "cell_type": "markdown",
   "metadata": {},
   "source": [
    "**PREDICTIONS SUMMARY**[](http://)"
   ]
  },
  {
   "cell_type": "code",
   "execution_count": 70,
   "metadata": {},
   "outputs": [
    {
     "name": "stdout",
     "output_type": "stream",
     "text": [
      "movie_name :movieId                                                 1196\n",
      "title      Star Wars: Episode V - The Empire Strikes Back...\n",
      "genres                               Action|Adventure|Sci-Fi\n",
      "Name: 1171, dtype: object\n",
      "\n",
      " Movie descriptions: action adventure classic fantasy George Lucas great soundtrack Harrison Ford music original plot sci-fi sequel star wars sword fight sword fighting adventure fantasy father-son relationship Harrison Ford space dvd action adventure classic George Lucas great soundtrack Harrison Ford space star wars sci-fi space classic sci-fi star wars fantasy war androids Carrie Fisher fantasy George Lucas Harrison Ford Industrial Light and Magic Irvin Kershner John Williams Lawrence Kasdan Mark Hamill robots Space adventure boba fett darth vader fantasy father-son relationship George Lucas Harrison Ford music robots space Space battle sword fight adventure fantasy father-son relationship Harrison Ford sci-fi space star wars Futuristmovies.com George Lucas Harrison Ford star wars great soundtrack Myth robots sci-fi George Lucas great soundtrack music sci-fi space sword fight bast background universe complex script joseph campbell's study of mythology influenced mystic warriors original plot starship pilots classic Darth Vader Harrison Ford Luke Skywalker sequel better than original Harrison Ford Highly quotable George Lucas Harrison Ford Mark Hamill Lucas awesome Harrison Ford Star Wars fantasy Harrison Ford sci-fi space Harrison Ford seen more than once aliens fantasy father-son relationship George Lucas Harrison Ford imdb top 250 music Saturn Award (Best Science Fiction Film) sequel star wars bespin carbonite darth vader father hoth I am your father jedi luke sci fi robots could carry on but i might end up spoilin it for you George Lucas modern fantasy Billy Dee Williams Carrie Fisher Mark Hamill great soundtrack fantasy George Lucas sci-fi series adventure fantasy George Lucas great soundtrack Harrison Ford music robots sci-fi space star wars Harrison Ford sci-fi space action adventure robots sci-fi space war adventure fantasy modern fantasy original plot sci-fi space space opera sci-fi sci-fi adventure father-son relationship Harrison Ford robots sci-fi space war Star Wars star wars Harrison Ford space best of the originals Harrison Ford sci-fi space star wars classic fantasy sci-fi space Action SciFi scifi sci-fi star wars star wars classic star wars Carrie Fisher Harrison Ford Mark Hamill adventure father-son relationship music Saturn Award (Best Special Effects) action adventure George Lucas Harrison Ford sci-fi space sci-fi seen more than once soundtrack space sci-fi space action aliens sci-fi space opera Star Wars fantasy Space Opera seen more than once action better than original fantasy George Lucas sci fi aliens George Lucas imdb top 250 fantasy Harrison Ford sci-fi adventure fantasy George Lucas great soundtrack modern fantasy music robots sci-fi space Star Wars sword fight scope dark fantasy great soundtrack modern fantasy space opera Star Wars space action adventure aliens fantasy Harrison Ford music original plot quotable dialogue robots sci-fi science fiction space Star Wars war Star Wars Gfei own it sci-fi space 1980s Robots sci-fi Space Opera seen more than once Theater TV VHS adventure classic fantasy androids best of the originals classic father son relationship franchise Highly quotable jedi Myth space space opera action adventure classic Harrison Ford sci-fi galactic sci-fi space fantasy George Lucas sci-fi spaceships sci-fi space adventure great soundtrack music sci-fi Star Wars seen more than once classic science fiction series action adventure fantasy George Lucas great soundtrack Harrison Ford robots space Star Wars adventure classic fantasy father-son relationship great soundtrack modern fantasy music robots sci-fi space Irvin Kershner fantasy sci-fi space space opera Harrison Ford George Lucas jedi sci-fi action adventure fantasy Irvin Kershner sci-fi USA best of star wars sci-fi space opera George Lucas star wars dvd sci-fi fantasy George Lucas Harrison Ford sci-fi classic George Lucas Harrison Ford music original plot sci-fi sequel adventure fantasy sci-fi space nerdy modern fantasy Divx1 war gee-whiz factor heroes in peril space space opera adventure Harrison Ford robots sci-fi modern fantasy Eric's Dvds sci-fi cliffhanger franchise imdb top 250 robots Saturn Award (Best Special Effects) wintry sci-fi classic Harrison Ford lightsabers star wars Harrison Ford sci-fi great soundtrack soundtrack George Lucas Harrison Ford I am your father space space opera classic seen at the cinema action adventure aliens classic fantasy George Lucas great soundtrack Harrison Ford music sci-fi SciFi sequel space war EPIC sci-fi Star Wars fantasy To Be Continued sci-fi franchise Saturn Award (Best Special Effects) space 1980s action adventure aliens classic fantasy father-son relationship George Lucas great soundtrack Harrison Ford imdb top 250 music robots Saturn Award (Best Actor) Saturn Award (Best Science Fiction Film) sci-fi sequel space sword fight war sci-fi action adventure far future George Lucas sci-fi war seen at the cinema TV sequel space fantasy George Lucas Harrison Ford robots sci-fi sequel space could carry on but i might end up spoilin it for you just great action adventure aliens classic fantasy father-son relationship George Lucas Harrison Ford music sci-fi space star wars adventure Lucas music parenthood victory father-son relationship great soundtrack sci-fi space sci-fi star wars action adventure aliens bad script bast background universe Carrie Fisher classic complex script father-son relationship Harrison Ford joseph campbell's study of mythology influenced mystic warriors robots sci-fi sequel space starship pilots terrible main character war sci-fi space sci-fi action Harrison Ford sci-fi music sci-fi star wars acting dialogue script story Harrison Ford sci-fi Star Wars space robots 1980s aliens fantasy George Lucas Harrison Ford robots sci-fi science fiction father-son relationship Harrison Ford sci-fi snow dark great soundtrack music Hugo Award Star Wars 70mm Anamorphic Blow-Up BD-Video Betamax CAV CLV DVD-Video George Lucas adventure modern fantasy space opera sword fight action adventure Alec Guinness aliens bounty hunter(s) classic George Lucas great soundtrack Harrison Ford robots sci-fi space Space battle star wars sword fight To Be Continued Action franchise space crappy fight choreography noise in space plot holes space opera George Lucas Harrison Ford Star Wars memasa's movies asd ds sd sci-fi space action fantasy sci-fi space Tumey's DVDs\n",
      "movie_name :movieId                                                 1210\n",
      "title      Star Wars: Episode VI - Return of the Jedi (1983)\n",
      "genres                               Action|Adventure|Sci-Fi\n",
      "Name: 1184, dtype: object\n",
      "\n",
      " Movie descriptions: fantasy George Lucas Harrison Ford Mark Hammill sci-fi sequel space Star Wars Téa Leoni does not star in this movie will not like boba fett Harrison Ford jedi Star Wars action classic George Lucas Harrison Ford sci-fi space Star Wars sci-fi space war Aliens Androids Carrie Fisher Fantasy George Lucas Harrison Ford Industrial Light and Magic John Williams Mark Hamill Robots Space sci-fi space Futuristmovies.com sequel action adventure aliens Carrie Fisher classic drama fantasy father-son relationship George Lucas great ending great soundtrack Harrison Ford robots sci-fi sequel space space opera Star Wars starship pilots war bast background universe complex script joseph campbell's study of mythology influenced mystic warriors original plot starship pilots redemption George Lucas Harrison Ford Mark Hamill Lucas awesome Harrison Ford Star Wars great ending fantasy sci-fi Harrison Ford Space battle great ending Death of Darth Vader superhero Harrison Ford imdb top 250 sequel sci fi rating very dependent on version robots fantasy sci-fi sci-fi space Carrie Fisher James Earl Jones Mark Hamill fantasy George Lucas sci-fi series fantasy sci-fi space great ending fantasy Harrison Ford sci-fi space Star Wars action adventure fantasy Harrison Ford robots sci-fi sequel space Star Wars war fantasy spielberg/lucas sci-fi Star Wars Harrison Ford war fantasy sci-fi space classic fantasy sci-fi space Star Wars sci-fi adventure classic action adventure Harrison Ford sci-fi Star Wars adventure Harrison Ford Star wars Carrie Fisher Harrison Ford Mark Hamill aliens father-son relationship Oscar (Best Music - Original Score) Saturn Award (Best Special Effects) Star Wars action adventure George Lucas Harrison Ford sci-fi space Star Wars superhero violent war fantasy sci-fi space sci-fi seen more than once soundtrack Space Opera seen more than once aliens Mark Hamill imdb top 250 sci-fi space Star Wars space adventure aliens classic fantasy Harrison Ford Ian McDiarmid Mark Hamill sci-fi slave costume space Star Wars Star Wars Gfei own it great ending sci-fi seen more than once sci-fi action adventure classic ewoks fantasy great soundtrack space classic darth vader George Lucas Han Solo luke skywalker Myth redemption sequel space Space battle space opera highly quotable galactic sci-fi space fantasy sci-fi Ewoks great ending seen more than once good action adventure aliens George Lucas great soundtrack Harrison Ford Star Wars war Richard Marquand fantasy sci-fi space space-opera George Lucas Harrison Ford sci-fi Star Wars starship pilots Harrison Ford Star Wars great ending outdated action adventure fantasy Richard Marquand sci-fi USA action adventure classic fantasy George Lucas Harrison Ford Mark Hamill sci-fi space Star Wars sci-fi Star Wars great ending great ending dvd sci-fi adventure fantasy sci-fi space nerdy Divx1 drama violent war darth vader Eric's Dvds aliens desert far future franchise imdb top 250 Oscar (Best Music - Original Score) robots space Star Wars sci-fi adventure drama Harrison Ford Star Wars great ending great soundtrack soundtrack Harrison Ford George Lucas Harrison Ford Star Wars darth vader luke skywalker space opera EPIC great soundtrack sci-fi Star Wars franchise space action adventure aliens classic desert drama fantasy father-son relationship George Lucas great soundtrack Harrison Ford imdb top 250 robots Saturn Award (Best Science Fiction Film) sci-fi space Star Wars superhero violent war sci-fi action adventure far future George Lucas sci-fi war seen at the cinema sequel space George Lucas Harrison Ford action adventure aliens classic fantasy George Lucas sci-fi space Star Wars great ending adventure Lucas fantasy sci-fi George Lucas sci-fi space sci-fi Star Wars sci-fi space action adventure aliens bast background universe classic complex script fantasy father-son relationship George Lucas Harrison Ford joseph campbell's study of mythology influenced mystic warriors robots sci-fi sequel space starship pilots superhero sci-fi action adventure aliens sci-fi Star Wars superhero sci-fi aliens George Lucas sci-fi Star Wars acting dialogue script classic strong director Harrison Ford sci-fi Star Wars great ending space robots bah violent Bad Hugo Award Star Wars 70mm Anamorphic Blow-Up BD-Video Betamax CAV CLV DVD-Video action sci-fi space opera starship pilots adventure Alec Guinness bounty hunter(s) George Lucas great soundtrack Harrison Ford redemption robots space Star Wars fantasy action adventure aliens George Lucas Harrison Ford robots sci-fi space franchise great ending great ending space Harrison Ford Star Wars crappy fight choreography crappy sequel plot holes space opera George Lucas Harrison Ford Star Wars memasa's movies sci-fi space fantasy sci-fi space Tumey's DVDs\n",
      "movie_name :movieId                                          260\n",
      "title      Star Wars: Episode IV - A New Hope (1977)\n",
      "genres                       Action|Adventure|Sci-Fi\n",
      "Name: 257, dtype: object\n",
      "\n",
      " Movie descriptions: 1970s fantasy sci-fi epic exciting galactic action adventure atmospheric great soundtrack Harrison Ford sci-fi Star Wars stylized adventure atmospheric fantasy Harrison Ford space SPACE TRAVEL Star Wars stylized awesome soundtrack Bechdel Test:Fail epic murder/fatality Téa Leoni does not star in this movie wizards Carrie Fisher George Lucas Harrison Ford Mark Hamill classic adventure fantasy Harrison Ford jedi sword fight aliens family movie good versus evil heroic journey joseph campbell's study of mythology influenced quotable robots sci-fi space fantasy robots sci-fi sword fight space travel Alec Guiness aliens Androids Carrie Fisher fantasy Harrison Ford Industrial Light and Magic John Williams Mark Hamill robots sci-fi Science Fiction space adventure atmospheric fantasy Harrison Ford sci-fi space Star Wars stylized epoch making force visionary Futuristmovies.com atmospheric Harrison Ford action adventure aliens atmospheric Carrie Fisher classic fantasy George Lucas great soundtrack Harrison Ford old FX quality original plot robots sci-fi soundtrack space space travel Star Wars starship pilots stylized sword fight war darth vader lightsabers sci-fi adventure atmospheric classic great soundtrack space Star Wars sword fight adventure aliens bast background universe BGM performed by orchesta complex script fantasy fast plot development George Lucas Harrison Ford John Williams music mystic warriors old FX quality original plot robots sci-fi space starship pilots !George Lucas fantasy USA film registry atmospheric HEROIC MISSION humorous ROBOTS AND ANDROIDS rousing SPACE TRAVEL SPACE WARS stylized classic Harrison Ford luke skywalker old FX quality Harrison Ford Highly quotable Alec Guinnes George Lucas Harrison Ford Mark Hamill Lucas awesome Harrison Ford Star Wars adventure classic fantasy sci-fi space adventure classic fantasy sci-fi Harrison Ford movie business scifi cult spielberg Luke Skywalker space classic George Lucas good versus evil Harrison Ford sci-fi space SPACE TRAVEL sci-fi aliens atmospheric fantasy great soundtrack Harrison Ford imdb top 250 old FX quality sci-fi space starship pilots aliens George Lucas sci-fi space Star Wars c3po chewbacca death star force han solo Leia light saber luke millenium falcon obi wan obi wan kenobi princess r2 d2 tie fighter x wing Akira Kurosawa homage rating very dependent on version robots spaceflight jedi sith space Carrie Fisher James Earl Jones Mark Hamill great soundtrack classic fantasy George Lucas sci-fi series adventure epic soft sci-fi adventure aliens fantasy sci-fi space stylized sword fight sci-fi space adventure desert Oscar (Best Effects - Visual Effects) sci-fi sword fight war spielberg/lucas space action adventure atmospheric Bechdel Test:Fail classic robots sci-fi sequel Star Wars chewbacca Harrison Ford Harrison Ford stylized sword fight fantasy sci-fi classic fantasy sci-fi space action aliens fantasy Harrison Ford sci-fi space Star Wars aliens Harrison Ford robots sci-fi space sword fight war george lucas sci-fi starwars classic w/e Carrie Fisher Harrison Ford Mark Hamill Peter Cushing aliens classic fantasy old FX quality sci-fi action adventure Akira Kurosawa atmospheric Harrison Ford sci-fi space Star Wars stylized Sci-fi seen more than once Soundtrack c3po action atmospheric action adventure fantasy sci-fi space SPACE TRAVEL Space Opera Sci-Fi fantasy Harrison Ford space aliens atmospheric classic sci-fi space Star Wars action adventure classic fantasy franchise great soundtrack Oscar (Best Editing) sci-fi seen more than once space combat stylized aliens sci-fi space Star Wars Sci-Fi imdb top 250 sci-fi space adventure Star Wars adventure classic sci-fi atmospheric great soundtrack space adventure Carrie Fisher fantasy George Lucas great soundtrack Harrison Ford imdb top 250 Mark Hamill original plot sci-fi space Star Wars war Star Wars Gfei own it fantasy sci-fi seen more than once sci-fi scifi cult wincest action space opera adventure epic science fiction TV VHS classic stylized atmospheric classic darth vader director-screenwriter luke skywalker Myth noise in space robots space space opera USA film registry classic adventure joseph campbell's study of mythology influenced this is the archetypal 'good sci-fi action' movie. it simply doesn't get better than this. galactic sci-fi space empire space adventure fantasy great soundtrack Harrison Ford sci-fi SPACE TRAVEL Too old. showing its age Harrison Ford AFI #15 fantasy George Lucas space sci-fi space action atmospheric classic robots sci-fi space space travel hot scifi seen more than once action adventure aliens fantasy George Lucas Harrison Ford sci fi space adventure aliens atmospheric classic fantasy great soundtrack Harrison Ford robots sci-fi soundtrack space space travel stylized George Lucas fantasy sci-fi space space-opera Harrison Ford George Lucas sci-fi outdated action adventure fantasy George Lucas sci-fi USA adventure Akira Kurosawa classic fantasy George Lucas Harrison Ford robots sci-fi space sci-fi space adventure Fantasy sci-fi space adventure fantasy great soundtrack Harrison Ford action adventure aliens classic fantasy Harrison Ford sci-fi space fantasy sci-fi space dvd sci-fi sci-fi George Lucas sci-fi adventure fantasy sci-fi space nerdy sci-fi Divx1 DVD1 war 70s darth vader luke skywalker space space opera Eric's Dvds sci-fi aliens desert franchise great soundtrack imdb top 250 Oscar (Best Effects - Visual Effects) quotable robots Saturn Award (Best Special Effects) space atmospheric sci-fi space stylized sword fight war great soundtrack sci-fi space fantasy sci-fi space sci-fi epic soundtrack space adventure classic Harrison Ford lightsabers outdated Star Wars great soundtrack Harrison Ford space great soundtrack soundtrack Akira Kurosawa atmospheric classic fantasy Saturn Award (Best Science Fiction Film) sci-fi space SPACE TRAVEL war George Lucas George Lucas great story darth vader luke skywalker space opera seen at the cinema EPIC great soundtrack sci-fi Star Wars 70mm AFI 100 AFI 100 (Cheers) AFI 100 (Movie Quotes) AFI 100 (Thrills) franchise George Lucas Harrison Ford Oscar (Best Art Direction - Set Decoration) Oscar (Best Costume Design) Oscar (Best Effects - Visual Effects) Oscar (Best Sound) Saturn Award (Best Costumes) Saturn Award (Best Makeup) Saturn Award (Best Science Fiction Film) Saturn Award (Best Special Effects) Saturn Award (Best Supporting Actor) Saturn Award (Best Writing) Sci-Fi space USA film registry sci-fi action adventure Akira Kurosawa aliens atmospheric classic fantasy George Lucas great soundtrack Harrison Ford imdb top 250 Oscar (Best Effects - Visual Effects) robots Saturn Award (Best Science Fiction Film) sci-fi space SPACE TRAVEL sword fight war sci-fi action adventure far future George Lucas sci-fi war heroic mind control space opera seen at the cinema sequel space action aliens fantasy Harrison Ford old FX quality original plot robots sci-fi space Harrison Ford breakthroughs George Lucas Harrison Ford Oscar (Best Effects - Visual Effects) robots sci-fi space sci-fi action aliens classic Harrison Ford robots sci-fi space SPACE TRAVEL sword fight war complete space soundtrack sci-fi space action adventure aliens atmospheric bast background universe Carrie Fisher classic complex script fantasy fast plot development Harrison Ford imdb top 250 mystic warriors old FX quality robots sci-fi sequel space starship pilots stylized Hayden Christensen atmospheric sci-fi SPACE TRAVEL stylized sci-fi carrie fisher harrison ford mark hamill sci-fi acting dialogue script story Harrison Ford Sci-Fi Star Wars robots epic adventure comic book style action cult classic sci-fi Hugo Award Star Wars 55 movies every kid should see--Entertainment Weekly 70mm Anamorphic Blow-Up BD-Video Betamax CAV CLV DVD-Video George Lucas Harrison Ford Pinnacle Film adventure Alec Guinness awesome soundtrack George Lucas Harrison Ford Peter Cushing sci-fi space SPACE TRAVEL Star Wars sword fight Harrison Ford erlend's DVDs fantasy franchise camp sci fi jedi space opera atmospheric great soundtrack space stylized action adventure aliens atmospheric classic fantasy George Lucas great soundtrack Harrison Ford humorous robots sequel space SPACE TRAVEL Star Wars stylized sword fight Harrison Ford midgets noise in space space opera sword fight good vs evil knights sci-fi Alec Guiness George Lucas Harrison Ford Star Wars memasa's movies National Film Registry sci-fi space sci-fi fantasy sci-fi space aliens oldie but goodie sci fi Overrated Tumey's DVDs Sci-Fi\n",
      "movie_name :movieId                       541\n",
      "title         Blade Runner (1982)\n",
      "genres     Action|Sci-Fi|Thriller\n",
      "Name: 537, dtype: object\n",
      "\n",
      " Movie descriptions: cyberpunk dystopia memory Philip K. Dick sci-fi adapted from:book agent/assassin with false memories/amnesia android(s)/cyborg(s) assassin author:Philip K. Dick beautiful effects Bechdel Test:Fail begins with big eye BFI modern classic cinematic watershed dystopia great cinematography killer-as-protagonist living a fictional life memory memory makes us who we are murder reference:Blade Runner related:Blade Runner setting:LA Philip K. Dick androids cyberpunk atmospheric classic cult film cyberpunk dark dystopia future futuristic sci-fi stylized Harrison Ford Ridley Scott Rutger Hauer adapted from:book androids based on a book dystopia existentialism future Philip K. Dick sci-fi stylized lack of story mindblowing outstanding clones assassin based on a book cult film cyberpunk Harrison Ford Philip K. Dick sci-fi stylized artificial intelligence cyberpunk robots atmospheric cyberpunk dreamlike dystopia Philip K. Dick sci-fi stylized sci-fi androids cyberpunk dystopia existentialism Harrison Ford jus+san Philip K. Dick artificial intelligence atmospheric based on a book classic cult film cyberpunk dystopia Harrison Ford Philip K. Dick robots sci-fi stylized man versus machine Futuristmovies.com androids memory artificial intelligence atmospheric dystopia Best Movies Ever memory artificial intelligence atmospheric based on a book cyberpunk dystopia genetics Harrison Ford robots sci-fi stylized atmospheric based on a book classic cult film cyberpunk dreamlike dystopia existentialism fantasy future futuristic genetics imdb top 250 memory Philip K. Dick robots sci-fi stylized Business is the antagonist artificial intelligence cyberpunk dystopia fantasy future sci-fi stylized dystopia Los Angeles noirish atmospheric dreamlike eerie EXPERIMENTS GONE AWRY FUTURE DYSTOPIAS melancholy OBSESSIVE QUESTS ominous ROBOTS AND ANDROIDS somber stylized TECHNOLOGY RUN AMOK classic cyberpunk Harrison Ford based on a book cyberpunk dreamlike existential existentialism existentialist mortality Nudity (Topless) Philip K. Dick philosophical robots sci-fi cyberpunk dreamlike Harrison Ford Philip K. Dick Androids Artificial Intelligence Brion James Edward James Olmos Harrison Ford James Hong Joanna Cassidy Joe Turkel M. Emmet Walsh Memory Implants Mortality Police Rutger Hauer Sean Young Soundtrack Vangelis William Sanderson cyberpunk cyborgs Philip K. Dick action cyberpunk robots blaxploitation Harrison Ford to see: cult classic dark future mortality rain replicants sci fi androids Philip K. Dick based on a book cyberpunk dystopia author:Philip K. Dick future Harrison Ford robots based on a book jb's dvds drama sci-fi cyberpunk dystopia Harrison Ford Philip K. Dick Rapist slow paced Visual Quality 80s sci-fi cyberpunk cyborg film noir harrison ford phillip k. dick ridley scott rutger hauer sci-fi sci-fi classic androids artificial intelligence atmospheric cyberpunk dystopia existentialism future great soundtrack Harrison Ford Philip K. Dick androids cyberpunk dystopia future sci-fi artificial intelligence assassin atmospheric based on a book cult film cyberpunk dreamlike dystopia existentialism fantasy future futuristic genetics great soundtrack Harrison Ford memory Nudity (Topless) Philip K. Dick robots stylized action adapted from:book atmospheric cyberpunk dystopia existentialism fantasy futuristic imdb top 250 cyberpunk dystopia Harrison Ford Ridley Scott Rutger Hauer sci-fi Special Effects stylized dystopia Harrison Ford Ridley Scott sci-fi androids artificial intelligence atmospheric cyberpunk existentialism fantasy Harrison Ford melancholy memory Philip K. Dick robots artificial intelligence cyberpunk dystopia Harrison Ford Philip K. Dick robots sci-fi mindfuck 100 Greatest Movies artificial intelligence assassin based on a book classic cyberpunk dystopia fantasy future imdb top 250 Philip K. Dick robots slow based on a book cyberpunk sci-fi Harrison Ford Nudity (Topless) dystopia boring rate up cyberpunk dystopia genetic engineering atmospheric cyberpunk dystopia futuristic Harrison Ford Philip K. Dick sci-fi stylized atmospheric campy dystopia lack of investment robots stylized visually stunning atmospheric Harrison Ford stylized atmospheric cyberpunk futuristic stylized dystopia sci-fi dystopia based on a book dystopia artificial intelligence based on a book cyberpunk Philip K. Dick robots sci-fi androids SF Ridley Scott artificial intelligence atmospheric based on a book cyberpunk melancholy narrated Philip K. Dick sci-fi cyberpunk dystopia future sci-fi sci-fi Harrison Ford Philip K. Dick sci-fi artificial intelligence dystopia imdb top 250 Philip K. Dick narrated androids atmospheric cyberpunk dreamlike dystopia neo-noir stylized Philip K. Dick must see sci-fi Gfei own it dystopia sci-fi cyberpunk Harrison Ford Philip K. Dick PKD futuristic Philip K. Dick sci-fi artificial intelligence atmospheric cyberpunk Philip K. Dick based on a book cyberpunk dystopia futuristic smart Philip K. Dick atmospheric cult film cyberpunk Daryl Hannah dreamlike dystopia Harrison Ford Ridley Scott Rutger Hauer sci-fi Sean Young stylized caricacatures plot holes ridiculousness robots stupidity violently stupid android(s)/cyborg(s) assassin artificial intelligence atmospheric cyberpunk dreamlike dystopia existentialism future futuristic philosophical sci-fi Vangelis slow cyberpunk dystopia existentialism philosophical stylized visual slow androids futuristic Philip K. Dick noir thriller sci fi sci-fi atmospheric cyberpunk great soundtrack stylized afi artificial intelligence cyberpunk future futuristic genetics imdb top 250 robots sci-fi classic cyberpunk fantasy imdb top 250 android p k dick Philip K. Dick 2 Had a hard time following the plot of the movie. artificial intelligence cyberpunk Robot rape scene sci-fi artificial intelligence dreamlike dystopia existentialism future philosophical sci-fi stylized Ridley Scott cinematographer:Jordan Cronenweth who cares DVDs distopia fantasy future sci-fi cyberpunk dystopia philosophical atmospheric classic cyberpunk director's cut dystopia futuristic genetics Harrison Ford philosophical sci-fi stylized cyberpunk Philip K. Dick sci-fi Harrison Ford atmospheric cult film dreamlike dystopia Harrison Ford Philip K. Dick philosophical stylized sci-fi adapted from:book atmospheric cyberpunk dark dystopia existentialism memory mortality Neo-noir Philip K. Dick philosophical Ridley Scott stylized action artificial intelligence based on a book cult film drama dystopia future Harrison Ford imdb top 250 Los Angeles Ridley Scott robots sci-fi beautiful effects Film-noir without any real clues or detective work R robots dystopia buy dvd-r Philip K. Dick sci-fi cyberpunk sci-fi classic dark sci-fi The Final Cut Harrison Ford Philip K. Dick sci-fi androids artificial intelligence atmospheric cyberpunk future mindfuck Philip K. Dick Philip K. Dick sci-fi Harrison Ford philosophical sci-fi artificial intelligence dystopia Harrison Ford imdb top 250 sci-fi cyberpunk dystopia existentialism cyberpunk action androids assassin atmospheric based on a book based on book classic cyberpunk dreamlike dystopia existentialism fantasy future futuristic imdb top 250 memory Philip K. Dick robots sci-fi stylized Cinematography androids artificial intelligence assassin based on a book business is the antagonist cyberpunk imdb top 250 nocturnal nudity (topless) Philip K. Dick robots slow cyberpunk dreamlike Philip K. Dick SF cyberpunk sci-fi katsomattomat cyberpunk dreamlike futuristic robots sci-fi artificial intelligence classic cult film cyberpunk dreamlike Philip K. Dick robots sci-fi atmospheric stylized atmospheric dreamlike dystopia Harrison Ford Philip K. Dick stylized Philip K. Dick atmospheric classic cult film dreamlike dystopia existentialism future futuristic Philip K. Dick philosophical sci-fi stylized Vangelis cyberpunk Ridley Scott Sean Young atmospheric cyberpunk future mood not true to the book overly simplistic philip k dick philosophical tech based on a book classic cyberpunk dystopia Harrison Ford imdb top 250 Philip K. Dick robots adapted from:book androids artificial intelligence assassin atmospheric based on a book classic cult film cyberpunk dark drama dreamlike dystopia existentialism future futuristic great cinematography Harrison Ford imdb top 250 melancholy mortality Nudity (Topless) philosophical robots sci-fi stylized visual action atmospheric based on a book cult film cyberpunk dreamlike dystopia Harrison Ford philosophical robots sci-fi stylized cyberpunk dystopia existentialism Philip K. Dick Philip K. Dick adapted from:book androids cyberpunk dark dystopia existentialism future Harrison Ford imdb top 250 narrated Nudity (Topless) Philip K. Dick robots sci-fi violent androids atmospheric cyberpunk dystopia existentialism future sci-fi stylized cyberpunk dystopia Harrison Ford Ridley Scott 70mm AFI 100 (Thrills) androids Harrison Ford sci-fi Slow action drama far future noir sci-fi thriller based on a book future best movie ever classic imdb top 250 robots sci-fi Cinematography Harrison Ford based on a book Philip K. Dick dystopia slow paced director's cut is better great soundtrack futuro robots Best Movies Ever artificial human film-noir Harrison Ford memory Harrison Ford Rutger Hauer dystopia Harrison Ford imdb top 250 Nudity (Topless) cyberpunk replicant cyberpunk futuristic Harrison Ford Philip K. Dick sci-fi atmospheric cult film cyberpunk dystopia Harrison Ford atmospheric cult film cyberpunk dreamlike future sci-fi Rain atmosphere ending line slowness soundtrack the main character questionable unneseccary scenes cyberpunk dystopia sci-fi atmospheric stylized cyberpunk cyborgs existentialism cyberpunk dystopia classic dreamlike existentialism film noir future Harrison Ford noir Philip K. Dick sci-fi Vangelis boring Confusing if you haven't read the book overrated cyberpunk fantasy future sci-fi artificial intelligence atmospheric based on a book cyberpunk DIVX dystopia Harrison Ford imdb top 250 Philip K. Dick robots Rutger Hauer sci-fi Vangelis atmospheric classic intelligence sc-fi androids violent Hugo Award 70mm Anamorphic Blow-Up BD-Video CAV VHS artificial intelligence atmospheric genetic engineering imdb top 250 Philip K. Dick philosophical based on a book robots sci-fi based on a book morality philip k dick robots action author:Philip K. Dick film noir Harrison Ford narrated Nudity (Topless) Philip K. Dick artificial intelligence erlend's DVDs Philip K. Dick Ridley Scott sci-fi stylized dystopian sci-fi ahead of it's time Artificial human Dark hero dystopian future mortality Philip K. Dick artificial intelligence atmospheric based on a book cyberpunk existentialism Philip K. Dick sci-fi stylized dystopia Harrison Ford Ridley Scott Rutger Hauer cyberpunk genetics library National Film Registry nocturnal on dvr androids Harrison Ford Harrison Ford Philip K. Dick sci-fi sci-fi visual sci-fi androids sci-fi androids artificial intelligence atmospheric classic cult film cyberpunk dreamlike dystopia existentialism Harrison Ford Philip K. Dick philosophical sci-fi stylized visual dystopia Tumey's DVDs sci-fi Sexualized violence atmospheric cyberpunk dystopia Harrison Ford Philip K. Dick robots sci-fi\n",
      "movie_name :movieId                             924\n",
      "title      2001: A Space Odyssey (1968)\n",
      "genres           Adventure|Drama|Sci-Fi\n",
      "Name: 907, dtype: object\n",
      "\n",
      " Movie descriptions: adapted from:book artificial intelligence author:Arthur C. Clarke related:2001 setting:space/space ship video surveillance atmospheric philosophical sci-fi space Stanley Kubrick Arthur C. Clarke sci-fi Stanley Kubrick breathtaking genius stanley kubrick sci-fi space aliens artificial intelligence based on a book cerebral COMPUTER PARANOIA future imdb top 250 space space travel surreal adapted from:book artificial intelligence philosophical sci-fi space surreal aliens artificial intelligence atmospheric Dawn of Man future futuristic Oscar (Best Effects - Visual Effects) philosophical robots sci-fi space surreal visually appealing sci-fi Futuristmovies.com AI classic Kubrick hal robots slow artificial intelligence mystery artificial intelligence sci-fi artificial intelligence philosophical sci-fi Stanley Kubrick surreal Kubrick atmospheric BENIGN ALIENS cerebral chilly COMPUTER PARANOIA deliberate enigmatic FUTURE DYSTOPIAS meditative somber SPACE TRAVEL cult film surreal Stanley Kubrick Kubrick artificial intelligence based on a book meditative sci-fi space 5 stars slow Stanley Kubrick masterpiece atmospheric space Stanley Kubrick space atmospheric surreal sci-fi to see: sci fi ohsoso based on a book aliens masterpiece meditative sci-fi Stanley Kubrick 5 stars Hall 9000 shallow plot visually appealing atmospheric cinematography evolution groundbreaking meditative sci-fi soundtrack space space travel Stanley Kubrick visionary visually appealing apes portrayed as human-precursers fast-forwarding overlong beginnings Book philosophical Stanley Kubrick masterpiece artificial intelligence atmospheric philosophical sci-fi Stanley Kubrick surreal classic sci-fi head movie Stanley Kubrick Kubrick artificial intelligence futuristic space head movie Mindfuck Stanley Kubrick annoying artificial intelligence boring future music overrated artificial intelligence atmospheric philosophical sci-fi Stanley Kubrick monkey music pointless scenic slow kubrick atmospheric future philosophical space surreal adapted from:book sci-fi atmospheric enigmatic space Stanley Kubrick surreal masterpiece silence artificial intelligence scifi aliens artificial intelligence atmospheric meditative Stanley Kubrick artificial intelligence space imdb top 250 adapted from:book cult film philosophical sci-fi slow atmospheric cult film space Stanley Kubrick surreal cult film masterpiece artificial intelligence atmospheric philosophical sci-fi sci-fi space artificial intelligence atmospheric sci-fi space surreal visually appealing artificial intelligence cult film imdb top 250 Stanley Kubrick sci-fi boring dull incoherent DVD Collection atmospheric classic artificial intelligence meditative Stanley Kubrick surreal AFI #22 artificial intelligence atmospheric cinematography future futuristic music sci-fi visually appealing sci-fi space surreal 2 artificial intelligence atmospheric cult film philosophical sci-fi Stanley Kubrick surreal artificial intelligence Stanley Kubrick cinematographer:Geoffrey Unsworth avante-garde sci-fi space atmospheric space Stanley Kubrick classic groundbreaking sci-fi Breathtaking Mindfuck adapted from:book sparse ade geia adventure sci-fi Stanley Kubrick UK USA masterpiece sci-fi space Stanley Kubrick artificial intelligence don't watch this sleepy from your bed Stanley Kubrick masterpiece Amazing Cinematography Cool but freaky artificial intelligence sci-fi slow Oscar (Best Effects - Visual Effects) Stanley Kubrick masterpiece sci-fi dvd-r Stanley Kubrick Arthur C. Clarke sci-fi adapted from:book aliens artificial intelligence based on a book cult film future imdb top 250 philosophical sci-fi space Stanley Kubrick Veja Arthur C. Clarke first contact Classic villain Great Art Direction great villain oppressive soundtrack DVD boring slow classic sci-fi classic cult film hard to rate aliens Arthur C. Clarke artificial intelligence based on a book evolution first contact imdb top 250 slow space soundtrack surreal SF space artificial intelligence atmospheric Stanley Kubrick genius atmospheric classic cult film artificial intelligence cosmic evolution HAL 9000 artificial intelligence atmospheric cult film robots sci-fi Stanley Kubrick masterpiece masterpiece masterpiece the film!! Hal space meditative Stoner Movie artificial intelligence atmospheric cinematography classic cult film masterpiece philosophical sci-fi space Stanley Kubrick based on a book cerebral cult film Mindfuck sci-fi Stanley Kubrick Stoner Movie surreal aliens artificial intelligence atmospheric cinematography classic cult film future futuristic masterpiece meditative music Oscar (Best Effects - Visual Effects) philosophical robots sci-fi slow soundtrack space spaceships Stanley Kubrick Stoner Movie surreal visually appealing masterpiece atmospheric cinematography robots slow space Stanley Kubrick surreal visually appealing visionary 70mm AFI 100 AFI 100 (Cheers) AFI 100 (Movie Quotes) AFI 100 (Thrills) classic Kubrick Oscar (Best Effects - Visual Effects) sci-fi space Stanley Kubrick boring music slow tedious classic Stanley Kubrick breakthroughs artificial intelligence Oscar (Best Effects - Visual Effects) robots sci-fi space Stanley Kubrick masterpiece apes camera slow seen 2011 seen more than once aliens artificial intelligence cult film first contact realistic space masterpiece Stanley Kubrick aliens artificial intelligence atmospheric cult film mystery philosophical Stanley Kubrick surreal sci-fi aliens music space Stanley Kubrick surreal artificial intelligence atmospheric philosophical space sci-fi space cinematography confusing ending dialogue effects music relaxing simple story sci-fi classic Kubrick artificial intelligence atmospheric masterpiece music robots sci-fi soundtrack space visually appealing future future art deco aliens Arthur C. Clarke artificial intelligence future sci-fi space Stanley Kubrick boring soundtrack baffling boring kubrick Hugo Award artificial intelligence atmospheric future music philosophical sci-fi space Stanley Kubrick surreal 70mm BD-Video Betamax CLV DVD-Video Super Panavision 70 based on a book masterpiece Stoner Movie classic episodic Oscar (Best Effects - Visual Effects) shallow plot somber space travel artificial intelligence Oscar (Best Effects - Visual Effects) robots sci-fi surreal polysemic artificial intelligence erlend's DVDs evolution sci-fi space Stanley Kubrick supernatural aliens space travel surreal artificial intelligence atmospheric sci-fi space Stanley Kubrick Stanley Kubrick National Film Registry spaceships artificial intelligence atmospheric based on a book future philosophical sci-fi space Stanley Kubrick surreal artificial intelligence sci-fi sci-fi space visual masterpiece kubrick aliens artificial intelligence atmospheric future futuristic meditative music philosophical robots sci-fi space surreal classic artificial intelligence atmospheric cinematography classic cult film masterpiece meditative music philosophical sci-fi space Stanley Kubrick visual boring slow Tumey's DVDs pretentious pretentious garbage about good things pretentiousness Dull classic future futuristic Ligeti meditative music mystery philosophical Richard Strauss set design\n",
      "movie_name :movieId                         3190\n",
      "title               Supernova (2000)\n",
      "genres     Adventure|Sci-Fi|Thriller\n",
      "Name: 3103, dtype: object\n",
      "\n",
      " Movie descriptions: Angela Bassett James Spader Robin Tunney Francis Ford Coppola evolution nudity (topless) space bad science cliche expository dialogue plot driven sci-fi space superficial sci-fi space\n",
      "movie_name :movieId                                           33004\n",
      "title      Hitchhiker's Guide to the Galaxy, The (2005)\n",
      "genres                          Adventure|Comedy|Sci-Fi\n",
      "Name: 10025, dtype: object\n",
      "\n",
      " Movie descriptions: adapted from:radio play absurd douglas adams hollywoodization sci-fi Zooey Deschanel absurd bureaucracy end of the world space comedy end of the world england humor John Malkovich space space travel aliens based on a book John Malkovich post-apocalyptic sci-fi witty humor sci-fi book was better Stephen Fry Garth Jennings Martin Freeman whimsical witty Zooey Deschanel based on book comedy english post-apocalyptic sci-fi witty Zooey Deschanel british comedy british comedy sci-fi space dolphins space bad acting bad adaptation bad screenplay bad script poor acting poor adaptation remake sacrilege comedy based on a book dolphins hitchhiker humor sarcasm sci-fi seen more than once space humor sci-fi douglas adams sci-fi singularity space humor sci-fi british slap stick sarcasm witty book was better enjoyable light humor sarcasm space dolphins literature sci-fi absurd philosophical sarcasm sci-fi whimsical movie to see Zooey Deschanel americanized movies dumbed down post-apocalyptic sci-fi Zooey Deschanel Zooey Deschanel Sam Rockwell John Malkovich space alien invasion aliens apocalypse based on book comedy douglas adams dumbed down end of the world hollywoodization John Malkovich post-apocalyptic overrated post-apocalyptic sarcasm sci-fi space travel witty Alan Rickman end of the world Stephen Fry Zooey Deschanel post-apocalyptic sci-fi absurd comedy england sci-fi whimsical witty slow Alan Rickman MT seen more than once based on a book sci-fi space Garth Jennings Jason Schwartzman bad adaptation comedy Martin Freeman Zooey Deschanel absurd alien invasion aliens apocalypse based on a book comedy dolphins Garth Jennings humor John Malkovich Martin Freeman post-apocalyptic quotable sci-fi space travel Warwick Davis based on a book post-apocalyptic space post-apocalyptic Zooey Deschanel england based on a book post-apocalyptic sci-fi end of the world post-apocalyptic end of the world humor sci-fi whimsical Divx1 Alan Rickman based on a book bureaucracy dolphins humor John Malkovich sci-fi singularity Eric's Dvds aliens based on a book Douglas Adams end of the world space watch the credits whimsical witty humor sarcasm absurd humor sarcasm adapted from:book absurd americanized movies british comedy comedy douglas adams dumbed down sarcasm whimsical witty based on a book John Malkovich absurd bureaucracy dolphins end of the world sarcasm sci-fi space whimsical witty based on a book sci-fi Zooey Deschanel humor whimsical witty Zooey Deschanel based on a book book was better dolphins humor sarcasm space sarcasm witty Alan Rickman sci-fi Zooey Deschanel sci-fi own based on a book bureaucracy douglas adams dumbed down sarcasm sci-fi space whimsical Zooey Deschanel Sam Rockwell Zooey Deschanel Americanized Bad Acting Bad Voice Acting for the book Mos Def new material that does not belong Shape of Heart of Gold Shape of Marvin Zaphod's missing head not as good as the book funny smart americanized movies dumbed down based on a book end of the world John Malkovich DVD book is so much better aliens science fiction space space travel alien invasion based on book funny smart space space travel witty avi aliens based on a book dolphins end of the world space space travel Alan Rickman americanized movies based on a book based on book book was better british humour dumbed down end of the world humor John Malkovich sarcasm sci-fi witty Alan Rickman John Malkovich based on a book post-apocalyptic space absurd aliens based on a book comedy dolphins douglas adams humor John Malkovich sarcasm sci-fi space travel literature sci-fi unfilmable original work aliens comedy robots sci-fi Zooey Deschanel bureaucracy end of the world hitchhiker mouse not as good as the book overrated president tea unfilmable original work based on a book Below R comedy sci-fi space based on a book sci-fi aliens apocalypse based on a book british comedy post-apocalyptic remake space witty Zooey Deschanel Guy from the Office John Malkovich Zooey Deschanel\n",
      "movie_name :movieId                          27611\n",
      "title      Battlestar Galactica (2003)\n",
      "genres                Drama|Sci-Fi|War\n",
      "Name: 9395, dtype: object\n",
      "\n",
      " Movie descriptions: complex military MILITARY LIFE mythology religion sci-fi space thought-provoking visually appealing series Edward James Olmos Aesop ending politics sci-fi MILITARY LIFE space androids based on a TV show MILITARY LIFE political post-apocalyptic robots sci-fi space thought-provoking visually appealing post-apocalyptic androids military MILITARY LIFE political politics post-apocalyptic religion sci-fi space actors androids based on a TV show battleships better than the old version computer animation cybernetic creatures cybernetics Direction director humanity infiltrators made for TV mental health military MILITARY LIFE politics remake robots sci-fi space spaceflight Special Effects starship pilots starships sci-fi space sci-fi spaceflight androids cynical drama MILITARY LIFE original politics post-apocalyptic religion robots sci-fi space thought-provoking visually appealing sci-fi space humanity sci-fi space Special Effects sci-fi space androids based on a TV show visually appealing MILITARY LIFE sci-fi space tv show based on a TV show rate down sci-fi space sci-fi sci-fi space complex genre-bending mythology original post-apocalyptic sci-fi thought-provoking visually appealing post-apocalyptic sci-fi seen more than once space humanity politics space better than the old version Edward James Olmos Mary McDonnell political remake Ron Moore sci-fi space tv show space MILITARY LIFE sci-fi space tv show androids complex military MILITARY LIFE reboot based on a TV show sci-fi less than 300 ratings Michael Rymer sci-fi space choices destiny sci-fi space drama military mysticism politics post-apocalyptic religion space opera politics sci-fi space sci-fi space based on a TV show made for TV military politics remake robots space military MILITARY LIFE post-apocalyptic sci-fi space battleships beautiful woman cybernetic creatures cybernetics humanity infiltrators military MILITARY LIFE sci-fi space Treason humanity religion remake robots sci-fi drama politics post-apocalyptic sci-fi space thought-provoking visually appealing political sci-fi space MILITARY LIFE bad acting cynical political politics too serious androids based on a TV show computer animation cynical drama made for TV military MILITARY LIFE mythology original political politics post-apocalyptic robots sci-fi space thought-provoking visually appealing better than the old version not a movie sci-fi space political post-apocalyptic religion remake sci-fi starship pilots\n",
      "movie_name :movieId                    6968\n",
      "title      Death Machine (1995)\n",
      "genres            Action|Sci-Fi\n",
      "Name: 6856, dtype: object\n",
      "\n",
      " Movie descriptions: action funny horror humor robot satire sci-fi\n",
      "movie_name :movieId                             6645\n",
      "title                    THX 1138 (1971)\n",
      "genres     Action|Adventure|Drama|Sci-Fi\n",
      "Name: 6535, dtype: object\n",
      "\n",
      " Movie descriptions: Futuristmovies.com bad plot cinematography consumerism de-genderization dystopia eugenics great cinematography medicine Nudity (Topless) robots sci-fi utilitarianism George Lucas dystopia classic dystopia great cinematography robert duvall ohsoso cinematography dystopia sci-fi dystopia dystopia psychological sci-fi conformity dystopia surveillance George Lucas great cinematography buy sci-fi directorial debut nudity (topless) consumerism dystopia eugenics George Lucas great cinematography medicine sci-fi surveillance dystopia bald nemesis cars classic Donald Pleasence psychological robert duvall robots classic dystopia George Lucas robots sci-fi surveillance white classic prophetic Betamax erlend's DVDs great cinematography eugenics androgyny bald nemesis cars clinical conformity consumerism de-genderization genderlessness hologram indifference medicine motorcycle Nudity (Topless) robots surveillance utilitarianism white\n"
     ]
    }
   ],
   "source": [
    "for i in cosines_id[0:10]:\n",
    "    getinfo(i[0])"
   ]
  }
 ],
 "metadata": {
  "kernelspec": {
   "display_name": "Python 3 (ipykernel)",
   "language": "python",
   "name": "python3"
  },
  "language_info": {
   "codemirror_mode": {
    "name": "ipython",
    "version": 3
   },
   "file_extension": ".py",
   "mimetype": "text/x-python",
   "name": "python",
   "nbconvert_exporter": "python",
   "pygments_lexer": "ipython3",
   "version": "3.9.7"
  }
 },
 "nbformat": 4,
 "nbformat_minor": 4
}
